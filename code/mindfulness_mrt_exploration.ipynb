{
 "cells": [
  {
   "cell_type": "markdown",
   "metadata": {},
   "source": [
    "# Mindfulness MRT Exploration\n",
    "\n",
    "Get to know data and see if there are interesting results"
   ]
  },
  {
   "cell_type": "markdown",
   "metadata": {},
   "source": [
    "## Imports"
   ]
  },
  {
   "cell_type": "code",
   "execution_count": 1,
   "metadata": {},
   "outputs": [],
   "source": [
    "import pandas as pd\n",
    "import numpy as np"
   ]
  },
  {
   "cell_type": "markdown",
   "metadata": {},
   "source": [
    "## Data upload"
   ]
  },
  {
   "cell_type": "code",
   "execution_count": 2,
   "metadata": {},
   "outputs": [],
   "source": [
    "# App logs\n",
    "app_logs = pd.read_csv('../mindfulness-data/app-logs-headspace.csv')\n",
    "\n",
    "# Daily survey\n",
    "daily_survey = pd.read_csv('../mindfulness-data/daily-survey.csv')\n",
    "\n",
    "# Mobile survey\n",
    "mobile_survey = pd.read_csv('../mindfulness-data/mobile-surveys.csv')\n",
    "\n",
    "# Notification event\n",
    "notif_event = pd.read_csv('../mindfulness-data/notif-event.csv')\n",
    "\n",
    "# PAM \n",
    "pam = pd.read_csv('../mindfulness-data/pam.csv')\n",
    "\n",
    "# Participants\n",
    "participants = pd.read_csv('../mindfulness-data/participants.csv')"
   ]
  },
  {
   "cell_type": "markdown",
   "metadata": {},
   "source": [
    "### Data exploration"
   ]
  },
  {
   "cell_type": "code",
   "execution_count": 18,
   "metadata": {},
   "outputs": [
    {
     "data": {
      "text/plain": [
       "array(['com.getsomeheadspace.android'], dtype=object)"
      ]
     },
     "execution_count": 18,
     "metadata": {},
     "output_type": "execute_result"
    }
   ],
   "source": [
    "app_logs.app_id.unique()"
   ]
  },
  {
   "cell_type": "code",
   "execution_count": 17,
   "metadata": {},
   "outputs": [
    {
     "data": {
      "text/plain": [
       "array([' com.getsomeheadspace.android', ' pam', ' push_survey'],\n",
       "      dtype=object)"
      ]
     },
     "execution_count": 17,
     "metadata": {},
     "output_type": "execute_result"
    }
   ],
   "source": [
    "daily_survey.app_id.unique()"
   ]
  },
  {
   "cell_type": "code",
   "execution_count": 4,
   "metadata": {},
   "outputs": [
    {
     "data": {
      "text/html": [
       "<div>\n",
       "<style scoped>\n",
       "    .dataframe tbody tr th:only-of-type {\n",
       "        vertical-align: middle;\n",
       "    }\n",
       "\n",
       "    .dataframe tbody tr th {\n",
       "        vertical-align: top;\n",
       "    }\n",
       "\n",
       "    .dataframe thead th {\n",
       "        text-align: right;\n",
       "    }\n",
       "</style>\n",
       "<table border=\"1\" class=\"dataframe\">\n",
       "  <thead>\n",
       "    <tr style=\"text-align: right;\">\n",
       "      <th></th>\n",
       "      <th>id</th>\n",
       "      <th>email</th>\n",
       "      <th>code</th>\n",
       "      <th>header</th>\n",
       "      <th>response</th>\n",
       "      <th>created_at</th>\n",
       "    </tr>\n",
       "  </thead>\n",
       "  <tbody>\n",
       "    <tr>\n",
       "      <th>0</th>\n",
       "      <td>192</td>\n",
       "      <td>fnokeke@gmail.com</td>\n",
       "      <td>461985</td>\n",
       "      <td>timestamp,q1-mindful-engage</td>\n",
       "      <td>2018-10-25T18:22:27--18000000,yes-on-my-own,;</td>\n",
       "      <td>2018-10-25 22:22:31.761079</td>\n",
       "    </tr>\n",
       "    <tr>\n",
       "      <th>1</th>\n",
       "      <td>193</td>\n",
       "      <td>fnokeke@gmail.com</td>\n",
       "      <td>461985</td>\n",
       "      <td>timestamp,q1-mindful-engage</td>\n",
       "      <td>2018-10-26T23:56:15--18000000,no,;</td>\n",
       "      <td>2018-10-29 18:16:08.605895</td>\n",
       "    </tr>\n",
       "    <tr>\n",
       "      <th>2</th>\n",
       "      <td>194</td>\n",
       "      <td>fnokeke@gmail.com</td>\n",
       "      <td>461985</td>\n",
       "      <td>timestamp,q1-mindful-engage</td>\n",
       "      <td>2018-10-30T0:40:27--18000000,yes-on-my-own,;</td>\n",
       "      <td>2018-10-30 15:25:40.233189</td>\n",
       "    </tr>\n",
       "    <tr>\n",
       "      <th>3</th>\n",
       "      <td>195</td>\n",
       "      <td>fnokeke@gmail.com</td>\n",
       "      <td>461985</td>\n",
       "      <td>timestamp,q1-mindful-engage</td>\n",
       "      <td>2018-10-31T0:0:57--18000000,yes-on-my-own,;</td>\n",
       "      <td>2018-10-31 15:26:14.01151</td>\n",
       "    </tr>\n",
       "    <tr>\n",
       "      <th>4</th>\n",
       "      <td>219</td>\n",
       "      <td>fnokeke@gmail.com</td>\n",
       "      <td>461985</td>\n",
       "      <td>timestamp,q1-mindful-engage</td>\n",
       "      <td>2018-11-12T22:9:32--18000000,no,;2018-11-15T23...</td>\n",
       "      <td>2018-12-10 06:48:30.8586</td>\n",
       "    </tr>\n",
       "  </tbody>\n",
       "</table>\n",
       "</div>"
      ],
      "text/plain": [
       "    id              email    code                       header  \\\n",
       "0  192  fnokeke@gmail.com  461985  timestamp,q1-mindful-engage   \n",
       "1  193  fnokeke@gmail.com  461985  timestamp,q1-mindful-engage   \n",
       "2  194  fnokeke@gmail.com  461985  timestamp,q1-mindful-engage   \n",
       "3  195  fnokeke@gmail.com  461985  timestamp,q1-mindful-engage   \n",
       "4  219  fnokeke@gmail.com  461985  timestamp,q1-mindful-engage   \n",
       "\n",
       "                                            response  \\\n",
       "0      2018-10-25T18:22:27--18000000,yes-on-my-own,;   \n",
       "1                 2018-10-26T23:56:15--18000000,no,;   \n",
       "2       2018-10-30T0:40:27--18000000,yes-on-my-own,;   \n",
       "3        2018-10-31T0:0:57--18000000,yes-on-my-own,;   \n",
       "4  2018-11-12T22:9:32--18000000,no,;2018-11-15T23...   \n",
       "\n",
       "                   created_at  \n",
       "0  2018-10-25 22:22:31.761079  \n",
       "1  2018-10-29 18:16:08.605895  \n",
       "2  2018-10-30 15:25:40.233189  \n",
       "3   2018-10-31 15:26:14.01151  \n",
       "4    2018-12-10 06:48:30.8586  "
      ]
     },
     "execution_count": 4,
     "metadata": {},
     "output_type": "execute_result"
    }
   ],
   "source": [
    "mobile_survey.head()"
   ]
  },
  {
   "cell_type": "code",
   "execution_count": 5,
   "metadata": {},
   "outputs": [
    {
     "data": {
      "text/html": [
       "<div>\n",
       "<style scoped>\n",
       "    .dataframe tbody tr th:only-of-type {\n",
       "        vertical-align: middle;\n",
       "    }\n",
       "\n",
       "    .dataframe tbody tr th {\n",
       "        vertical-align: top;\n",
       "    }\n",
       "\n",
       "    .dataframe thead th {\n",
       "        text-align: right;\n",
       "    }\n",
       "</style>\n",
       "<table border=\"1\" class=\"dataframe\">\n",
       "  <thead>\n",
       "    <tr style=\"text-align: right;\">\n",
       "      <th></th>\n",
       "      <th>id</th>\n",
       "      <th>email</th>\n",
       "      <th>code</th>\n",
       "      <th>created_at</th>\n",
       "      <th>affect_arousal</th>\n",
       "      <th>affect_valence</th>\n",
       "      <th>mood</th>\n",
       "      <th>negative_affect</th>\n",
       "      <th>positive_affect</th>\n",
       "      <th>timestamp_z</th>\n",
       "    </tr>\n",
       "  </thead>\n",
       "  <tbody>\n",
       "    <tr>\n",
       "      <th>0</th>\n",
       "      <td>538</td>\n",
       "      <td>ysmncs@gmail.com</td>\n",
       "      <td>461985</td>\n",
       "      <td>2019-03-23 13:59:03.979943</td>\n",
       "      <td>3</td>\n",
       "      <td>1</td>\n",
       "      <td>angry</td>\n",
       "      <td>15</td>\n",
       "      <td>3</td>\n",
       "      <td>2019-3-21T21:33:23--18000000</td>\n",
       "    </tr>\n",
       "    <tr>\n",
       "      <th>1</th>\n",
       "      <td>535</td>\n",
       "      <td>ysmncs@gmail.com</td>\n",
       "      <td>461985</td>\n",
       "      <td>2019-03-20 04:56:17.521876</td>\n",
       "      <td>1</td>\n",
       "      <td>1</td>\n",
       "      <td>tired</td>\n",
       "      <td>13</td>\n",
       "      <td>1</td>\n",
       "      <td>2019-3-19T22:42:10--18000000</td>\n",
       "    </tr>\n",
       "    <tr>\n",
       "      <th>2</th>\n",
       "      <td>533</td>\n",
       "      <td>ysmncs@gmail.com</td>\n",
       "      <td>461985</td>\n",
       "      <td>2019-03-16 04:57:33.419249</td>\n",
       "      <td>1</td>\n",
       "      <td>1</td>\n",
       "      <td>tired</td>\n",
       "      <td>13</td>\n",
       "      <td>1</td>\n",
       "      <td>2019-3-15T22:15:49--18000000</td>\n",
       "    </tr>\n",
       "    <tr>\n",
       "      <th>3</th>\n",
       "      <td>531</td>\n",
       "      <td>ysmncs@gmail.com</td>\n",
       "      <td>461985</td>\n",
       "      <td>2019-03-15 05:07:16.834344</td>\n",
       "      <td>1</td>\n",
       "      <td>1</td>\n",
       "      <td>tired</td>\n",
       "      <td>13</td>\n",
       "      <td>1</td>\n",
       "      <td>2019-3-15T0:29:28--18000000</td>\n",
       "    </tr>\n",
       "    <tr>\n",
       "      <th>4</th>\n",
       "      <td>529</td>\n",
       "      <td>ysmncs@gmail.com</td>\n",
       "      <td>461985</td>\n",
       "      <td>2019-03-12 17:00:45.462354</td>\n",
       "      <td>1</td>\n",
       "      <td>1</td>\n",
       "      <td>tired</td>\n",
       "      <td>13</td>\n",
       "      <td>1</td>\n",
       "      <td>2019-3-11T22:22:8--18000000</td>\n",
       "    </tr>\n",
       "  </tbody>\n",
       "</table>\n",
       "</div>"
      ],
      "text/plain": [
       "    id             email    code                  created_at  affect_arousal  \\\n",
       "0  538  ysmncs@gmail.com  461985  2019-03-23 13:59:03.979943               3   \n",
       "1  535  ysmncs@gmail.com  461985  2019-03-20 04:56:17.521876               1   \n",
       "2  533  ysmncs@gmail.com  461985  2019-03-16 04:57:33.419249               1   \n",
       "3  531  ysmncs@gmail.com  461985  2019-03-15 05:07:16.834344               1   \n",
       "4  529  ysmncs@gmail.com  461985  2019-03-12 17:00:45.462354               1   \n",
       "\n",
       "   affect_valence   mood  negative_affect positive_affect  \\\n",
       "0               1  angry               15               3   \n",
       "1               1  tired               13               1   \n",
       "2               1  tired               13               1   \n",
       "3               1  tired               13               1   \n",
       "4               1  tired               13               1   \n",
       "\n",
       "                    timestamp_z  \n",
       "0  2019-3-21T21:33:23--18000000  \n",
       "1  2019-3-19T22:42:10--18000000  \n",
       "2  2019-3-15T22:15:49--18000000  \n",
       "3   2019-3-15T0:29:28--18000000  \n",
       "4   2019-3-11T22:22:8--18000000  "
      ]
     },
     "execution_count": 5,
     "metadata": {},
     "output_type": "execute_result"
    }
   ],
   "source": [
    "pam.head()"
   ]
  },
  {
   "cell_type": "code",
   "execution_count": 19,
   "metadata": {},
   "outputs": [
    {
     "data": {
      "text/plain": [
       "array(['angry', 'tired', 'satisfied', 'gloomy', 'sad', 'glad', 'sleepy',\n",
       "       'calm', 'serene', 'happy', 'frustrated', 'excited', 'afraid',\n",
       "       'miserable', 'tense', '2', '3', '4', '1', 'delighted'],\n",
       "      dtype=object)"
      ]
     },
     "execution_count": 19,
     "metadata": {},
     "output_type": "execute_result"
    }
   ],
   "source": [
    "pam.mood.unique()"
   ]
  },
  {
   "cell_type": "markdown",
   "metadata": {},
   "source": [
    "## Aim 1: Notification affect on doing mindfulness\n",
    "\n",
    "Daily survey relevent columns:\n",
    "\n",
    "* Time prompt to complete survey\n",
    "* Title of notification\n",
    "* Content of notification"
   ]
  },
  {
   "cell_type": "markdown",
   "metadata": {},
   "source": [
    "Get relevant participants"
   ]
  },
  {
   "cell_type": "code",
   "execution_count": 6,
   "metadata": {},
   "outputs": [],
   "source": [
    "# Get participants ids\n",
    "participant_emails = participants.email.values\n",
    "\n",
    "# Filter daily_survey\n",
    "daily_survey_filt = daily_survey.loc[daily_survey.email.isin(participant_emails), :]"
   ]
  },
  {
   "cell_type": "code",
   "execution_count": 7,
   "metadata": {},
   "outputs": [
    {
     "data": {
      "text/plain": [
       "array(['samcarlin@gmail.com', 'jessica.riviere@gmail.com',\n",
       "       'jay.springfield@gmail.com', 'ohioleslie@gmail.com',\n",
       "       'foreverlaur@gmail.com', 'hjdeering@gmail.com',\n",
       "       'arhufnagle@gmail.com', 'paulski13@gmail.com',\n",
       "       'grli7272@gmail.com', 'ysmncs@gmail.com'], dtype=object)"
      ]
     },
     "execution_count": 7,
     "metadata": {},
     "output_type": "execute_result"
    }
   ],
   "source": [
    "participant_emails"
   ]
  },
  {
   "cell_type": "code",
   "execution_count": 8,
   "metadata": {},
   "outputs": [
    {
     "data": {
      "text/plain": [
       "10"
      ]
     },
     "execution_count": 8,
     "metadata": {},
     "output_type": "execute_result"
    }
   ],
   "source": [
    "len(np.unique(participant_emails))"
   ]
  },
  {
   "cell_type": "markdown",
   "metadata": {},
   "source": [
    "Make dummy vars for method and content type"
   ]
  },
  {
   "cell_type": "code",
   "execution_count": 9,
   "metadata": {},
   "outputs": [
    {
     "name": "stderr",
     "output_type": "stream",
     "text": [
      "/Users/dadler/opt/anaconda3/lib/python3.7/site-packages/ipykernel_launcher.py:1: SettingWithCopyWarning: \n",
      "A value is trying to be set on a copy of a slice from a DataFrame.\n",
      "Try using .loc[row_indexer,col_indexer] = value instead\n",
      "\n",
      "See the caveats in the documentation: http://pandas.pydata.org/pandas-docs/stable/user_guide/indexing.html#returning-a-view-versus-a-copy\n",
      "  \"\"\"Entry point for launching an IPython kernel.\n"
     ]
    }
   ],
   "source": [
    "daily_survey_filt['method_content'] = daily_survey_filt['method'] + '|' + daily_survey_filt['content']"
   ]
  },
  {
   "cell_type": "code",
   "execution_count": 10,
   "metadata": {},
   "outputs": [],
   "source": [
    "# Add on dummy vars\n",
    "daily_survey_filt = pd.concat([daily_survey_filt, pd.get_dummies(daily_survey_filt['method'])], axis=1)\n",
    "daily_survey_filt = pd.concat([daily_survey_filt, pd.get_dummies(daily_survey_filt['method_content'])], axis=1)\n",
    "\n",
    "# Add on timestamp\n",
    "daily_survey_filt['timestamp'] = pd.to_datetime(daily_survey_filt['alarm_millis'], unit='ms')"
   ]
  },
  {
   "cell_type": "markdown",
   "metadata": {},
   "source": [
    "Mobile survey - get into a spot whre I could do regression"
   ]
  },
  {
   "cell_type": "code",
   "execution_count": 20,
   "metadata": {},
   "outputs": [],
   "source": [
    "nhis_data = pd.read_csv('../../../Spring_2020/DS_in_the_Wild/Hw_1/input_data/nhis_input.csv')"
   ]
  },
  {
   "cell_type": "code",
   "execution_count": 22,
   "metadata": {},
   "outputs": [
    {
     "data": {
      "text/plain": [
       "18"
      ]
     },
     "execution_count": 22,
     "metadata": {},
     "output_type": "execute_result"
    }
   ],
   "source": [
    "nhis_data.AGE_P.min()"
   ]
  },
  {
   "cell_type": "code",
   "execution_count": 11,
   "metadata": {},
   "outputs": [],
   "source": [
    "mobile_survey_filt = mobile_survey.loc[mobile_survey.email.isin(participant_emails), :]"
   ]
  },
  {
   "cell_type": "code",
   "execution_count": 12,
   "metadata": {},
   "outputs": [
    {
     "data": {
      "text/html": [
       "<div>\n",
       "<style scoped>\n",
       "    .dataframe tbody tr th:only-of-type {\n",
       "        vertical-align: middle;\n",
       "    }\n",
       "\n",
       "    .dataframe tbody tr th {\n",
       "        vertical-align: top;\n",
       "    }\n",
       "\n",
       "    .dataframe thead th {\n",
       "        text-align: right;\n",
       "    }\n",
       "</style>\n",
       "<table border=\"1\" class=\"dataframe\">\n",
       "  <thead>\n",
       "    <tr style=\"text-align: right;\">\n",
       "      <th></th>\n",
       "      <th>id</th>\n",
       "      <th>email</th>\n",
       "      <th>code</th>\n",
       "      <th>header</th>\n",
       "      <th>response</th>\n",
       "      <th>created_at</th>\n",
       "    </tr>\n",
       "  </thead>\n",
       "  <tbody>\n",
       "    <tr>\n",
       "      <th>7</th>\n",
       "      <td>223</td>\n",
       "      <td>arhufnagle@gmail.com</td>\n",
       "      <td>461985</td>\n",
       "      <td>timestamp,q1-mindful-engage</td>\n",
       "      <td>2018-12-10T10:47:24--18000000,yes-with-app,;</td>\n",
       "      <td>2018-12-10 23:35:01.716901</td>\n",
       "    </tr>\n",
       "    <tr>\n",
       "      <th>8</th>\n",
       "      <td>226</td>\n",
       "      <td>jay.springfield@gmail.com</td>\n",
       "      <td>461985</td>\n",
       "      <td>timestamp,q1-mindful-engage</td>\n",
       "      <td>2018-12-10T22:14:4--18000000,yes-with-app,;</td>\n",
       "      <td>2018-12-11 16:36:07.223174</td>\n",
       "    </tr>\n",
       "    <tr>\n",
       "      <th>9</th>\n",
       "      <td>224</td>\n",
       "      <td>ohioleslie@gmail.com</td>\n",
       "      <td>461985</td>\n",
       "      <td>timestamp,q1-mindful-engage</td>\n",
       "      <td>2018-12-10T22:8:47--18000000,yes-with-app,;201...</td>\n",
       "      <td>2018-12-11 04:49:02.105008</td>\n",
       "    </tr>\n",
       "    <tr>\n",
       "      <th>10</th>\n",
       "      <td>225</td>\n",
       "      <td>jessica.riviere@gmail.com</td>\n",
       "      <td>461985</td>\n",
       "      <td>timestamp,q1-mindful-engage</td>\n",
       "      <td>2018-12-10T9:43:41--18000000,no,;</td>\n",
       "      <td>2018-12-11 12:17:25.033384</td>\n",
       "    </tr>\n",
       "    <tr>\n",
       "      <th>11</th>\n",
       "      <td>228</td>\n",
       "      <td>arhufnagle@gmail.com</td>\n",
       "      <td>461985</td>\n",
       "      <td>timestamp,q1-mindful-engage</td>\n",
       "      <td>2018-12-11T10:29:0--18000000,yes-with-app,;</td>\n",
       "      <td>2018-12-11 23:32:04.633803</td>\n",
       "    </tr>\n",
       "    <tr>\n",
       "      <th>...</th>\n",
       "      <td>...</td>\n",
       "      <td>...</td>\n",
       "      <td>...</td>\n",
       "      <td>...</td>\n",
       "      <td>...</td>\n",
       "      <td>...</td>\n",
       "    </tr>\n",
       "    <tr>\n",
       "      <th>219</th>\n",
       "      <td>393</td>\n",
       "      <td>grli7272@gmail.com</td>\n",
       "      <td>461985</td>\n",
       "      <td>timestamp,q1-mindful-engage</td>\n",
       "      <td>2019-3-6T21:0:31--18000000,yes-on-my-own,;</td>\n",
       "      <td>2019-03-07 03:35:36.281551</td>\n",
       "    </tr>\n",
       "    <tr>\n",
       "      <th>220</th>\n",
       "      <td>394</td>\n",
       "      <td>grli7272@gmail.com</td>\n",
       "      <td>461985</td>\n",
       "      <td>timestamp,q1-mindful-engage</td>\n",
       "      <td>2019-3-7T20:56:15--18000000,yes-on-my-own,;</td>\n",
       "      <td>2019-03-08 03:34:36.826764</td>\n",
       "    </tr>\n",
       "    <tr>\n",
       "      <th>221</th>\n",
       "      <td>395</td>\n",
       "      <td>grli7272@gmail.com</td>\n",
       "      <td>461985</td>\n",
       "      <td>timestamp,q1-mindful-engage</td>\n",
       "      <td>2019-3-8T20:51:39--18000000,yes-on-my-own,;</td>\n",
       "      <td>2019-03-09 03:50:32.650308</td>\n",
       "    </tr>\n",
       "    <tr>\n",
       "      <th>223</th>\n",
       "      <td>414</td>\n",
       "      <td>grli7272@gmail.com</td>\n",
       "      <td>461985</td>\n",
       "      <td>timestamp,q1-mindful-engage</td>\n",
       "      <td>2019-4-6T22:31:15--18000000,yes-on-my-own,;</td>\n",
       "      <td>2019-04-07 10:49:06.856001</td>\n",
       "    </tr>\n",
       "    <tr>\n",
       "      <th>224</th>\n",
       "      <td>415</td>\n",
       "      <td>grli7272@gmail.com</td>\n",
       "      <td>461985</td>\n",
       "      <td>timestamp,q1-mindful-engage</td>\n",
       "      <td>2019-4-7T22:49:0--18000000,yes-on-my-own,;</td>\n",
       "      <td>2019-04-08 10:45:54.713752</td>\n",
       "    </tr>\n",
       "  </tbody>\n",
       "</table>\n",
       "<p>210 rows × 6 columns</p>\n",
       "</div>"
      ],
      "text/plain": [
       "      id                      email    code                       header  \\\n",
       "7    223       arhufnagle@gmail.com  461985  timestamp,q1-mindful-engage   \n",
       "8    226  jay.springfield@gmail.com  461985  timestamp,q1-mindful-engage   \n",
       "9    224       ohioleslie@gmail.com  461985  timestamp,q1-mindful-engage   \n",
       "10   225  jessica.riviere@gmail.com  461985  timestamp,q1-mindful-engage   \n",
       "11   228       arhufnagle@gmail.com  461985  timestamp,q1-mindful-engage   \n",
       "..   ...                        ...     ...                          ...   \n",
       "219  393         grli7272@gmail.com  461985  timestamp,q1-mindful-engage   \n",
       "220  394         grli7272@gmail.com  461985  timestamp,q1-mindful-engage   \n",
       "221  395         grli7272@gmail.com  461985  timestamp,q1-mindful-engage   \n",
       "223  414         grli7272@gmail.com  461985  timestamp,q1-mindful-engage   \n",
       "224  415         grli7272@gmail.com  461985  timestamp,q1-mindful-engage   \n",
       "\n",
       "                                              response  \\\n",
       "7         2018-12-10T10:47:24--18000000,yes-with-app,;   \n",
       "8          2018-12-10T22:14:4--18000000,yes-with-app,;   \n",
       "9    2018-12-10T22:8:47--18000000,yes-with-app,;201...   \n",
       "10                   2018-12-10T9:43:41--18000000,no,;   \n",
       "11         2018-12-11T10:29:0--18000000,yes-with-app,;   \n",
       "..                                                 ...   \n",
       "219         2019-3-6T21:0:31--18000000,yes-on-my-own,;   \n",
       "220        2019-3-7T20:56:15--18000000,yes-on-my-own,;   \n",
       "221        2019-3-8T20:51:39--18000000,yes-on-my-own,;   \n",
       "223        2019-4-6T22:31:15--18000000,yes-on-my-own,;   \n",
       "224         2019-4-7T22:49:0--18000000,yes-on-my-own,;   \n",
       "\n",
       "                     created_at  \n",
       "7    2018-12-10 23:35:01.716901  \n",
       "8    2018-12-11 16:36:07.223174  \n",
       "9    2018-12-11 04:49:02.105008  \n",
       "10   2018-12-11 12:17:25.033384  \n",
       "11   2018-12-11 23:32:04.633803  \n",
       "..                          ...  \n",
       "219  2019-03-07 03:35:36.281551  \n",
       "220  2019-03-08 03:34:36.826764  \n",
       "221  2019-03-09 03:50:32.650308  \n",
       "223  2019-04-07 10:49:06.856001  \n",
       "224  2019-04-08 10:45:54.713752  \n",
       "\n",
       "[210 rows x 6 columns]"
      ]
     },
     "execution_count": 12,
     "metadata": {},
     "output_type": "execute_result"
    }
   ],
   "source": [
    "mobile_survey_filt"
   ]
  },
  {
   "cell_type": "code",
   "execution_count": 11,
   "metadata": {},
   "outputs": [],
   "source": [
    "ids = []\n",
    "email = []\n",
    "code = []\n",
    "header = []\n",
    "timestamp = []\n",
    "response = []\n",
    "created_at = []\n",
    "\n",
    "# Expand the survey responses\n",
    "for ind in mobile_survey_filt.index:\n",
    "    response_split = mobile_survey_filt.loc[ind, 'response'].split(';')\n",
    "    # Go through each response split and log\n",
    "    for r in response_split:\n",
    "        temp = r.split('--18000000,')\n",
    "        if len(temp) > 1:\n",
    "            # Append\n",
    "            ids.append(mobile_survey_filt.loc[ind, 'id'])\n",
    "            email.append(mobile_survey_filt.loc[ind, 'email'])\n",
    "            code.append(mobile_survey_filt.loc[ind, 'code'])\n",
    "            header.append(mobile_survey_filt.loc[ind, 'header'])\n",
    "            timestamp.append(temp[0])\n",
    "            response.append(temp[1][:-1])\n",
    "            created_at.append(mobile_survey_filt.loc[ind, 'created_at'])\n",
    "            \n",
    "mobile_survey_cleaned = pd.DataFrame({\n",
    "    'id': ids,\n",
    "    'email': email,\n",
    "    'code': code,\n",
    "    'header': header,\n",
    "    'timestamp_mindfulness': timestamp,\n",
    "    'response': response,\n",
    "    'created_at': created_at\n",
    "})\n",
    "mobile_survey_cleaned['timestamp_mindfulness'] = pd.to_datetime(\n",
    "    mobile_survey_cleaned['timestamp_mindfulness'],\n",
    "    format='%Y-%m-%dT%H:%M:%S'\n",
    ")"
   ]
  },
  {
   "cell_type": "markdown",
   "metadata": {},
   "source": [
    "Datetime"
   ]
  },
  {
   "cell_type": "code",
   "execution_count": 12,
   "metadata": {},
   "outputs": [],
   "source": [
    "mobile_survey_cleaned['day'] = mobile_survey_cleaned.timestamp_mindfulness.dt.floor('D')\n",
    "daily_survey_filt['day'] = daily_survey_filt.timestamp.dt.floor('D')"
   ]
  },
  {
   "cell_type": "markdown",
   "metadata": {},
   "source": [
    "Join to be able to see whether notification led to app response."
   ]
  },
  {
   "cell_type": "code",
   "execution_count": 13,
   "metadata": {},
   "outputs": [
    {
     "data": {
      "text/plain": [
       " You have a new survey.    57\n",
       " New PAM survey.           56\n",
       "                           25\n",
       "Name: title, dtype: int64"
      ]
     },
     "execution_count": 13,
     "metadata": {},
     "output_type": "execute_result"
    }
   ],
   "source": [
    "daily_survey_filt.loc[daily_survey.email == 'arhufnagle@gmail.com', 'title'].value_counts()"
   ]
  },
  {
   "cell_type": "code",
   "execution_count": 130,
   "metadata": {},
   "outputs": [],
   "source": [
    "temp = daily_survey_filt.loc[daily_survey_filt[' push_notification'] == 1, :]\n",
    "\n",
    "notif_w_mindfulness_resp = pd.merge(\n",
    "    left=mobile_survey_cleaned[['email', 'timestamp_mindfulness', 'response', 'day']],\n",
    "    right=temp[[\n",
    "     'email',\n",
    "     ' push_notification',\n",
    "     'timestamp',\n",
    "     'day']\n",
    "    ],\n",
    "    on=['day', 'email'],\n",
    "    how='left'\n",
    ")"
   ]
  },
  {
   "cell_type": "markdown",
   "metadata": {},
   "source": [
    "Fill on days when push notification did not occur"
   ]
  },
  {
   "cell_type": "code",
   "execution_count": 131,
   "metadata": {},
   "outputs": [],
   "source": [
    "notif_w_mindfulness_resp[' push_notification'].fillna(0, inplace=True)"
   ]
  },
  {
   "cell_type": "code",
   "execution_count": 132,
   "metadata": {},
   "outputs": [
    {
     "data": {
      "text/plain": [
       "0.0    0.646512\n",
       "1.0    0.353488\n",
       "Name:  push_notification, dtype: float64"
      ]
     },
     "execution_count": 132,
     "metadata": {},
     "output_type": "execute_result"
    }
   ],
   "source": [
    "notif_w_mindfulness_resp[' push_notification'].value_counts(normalize=True)"
   ]
  },
  {
   "cell_type": "markdown",
   "metadata": {},
   "source": [
    "Count, for now, all responses as just yes/no"
   ]
  },
  {
   "cell_type": "code",
   "execution_count": 133,
   "metadata": {},
   "outputs": [],
   "source": [
    "response_map = {\n",
    "    'yes-with-app': 1, \n",
    "    'no': 0, \n",
    "    'yes-on-my-own': 1\n",
    "}\n",
    "\n",
    "notif_w_mindfulness_resp['outcome'] = notif_w_mindfulness_resp.response.map(response_map)"
   ]
  },
  {
   "cell_type": "markdown",
   "metadata": {},
   "source": [
    "Mark that when a notification occurred, did it occur on the same day"
   ]
  },
  {
   "cell_type": "code",
   "execution_count": 134,
   "metadata": {},
   "outputs": [],
   "source": [
    "notif_w_mindfulness_resp['before'] = 1\n",
    "notif_w_mindfulness_resp.loc[\n",
    "    notif_w_mindfulness_resp.timestamp_mindfulness < notif_w_mindfulness_resp.timestamp, 'before'\n",
    "] = 0"
   ]
  },
  {
   "cell_type": "markdown",
   "metadata": {},
   "source": [
    "Now put value to see whether mindfulness was done on previous day"
   ]
  },
  {
   "cell_type": "code",
   "execution_count": 135,
   "metadata": {},
   "outputs": [],
   "source": [
    "import datetime"
   ]
  },
  {
   "cell_type": "code",
   "execution_count": 136,
   "metadata": {},
   "outputs": [],
   "source": [
    "notif_w_mindfulness_resp['prev_day_outcome'] = 0\n",
    "notif_w_mindfulness_resp = \\\n",
    "    notif_w_mindfulness_resp.sort_values(['email', 'timestamp_mindfulness']).reset_index(drop=True)\n",
    "notif_w_mindfulness_resp['day'] = notif_w_mindfulness_resp['timestamp_mindfulness'].dt.floor('D')\n",
    "\n",
    "for e in notif_w_mindfulness_resp.email.unique():\n",
    "    # Filter\n",
    "    ind = notif_w_mindfulness_resp.loc[notif_w_mindfulness_resp.email == e, :].index\n",
    "    days = notif_w_mindfulness_resp.loc[ind, 'day'].unique()\n",
    "    # For each day\n",
    "    for d in days[1:]:\n",
    "        # Get prev_day\n",
    "        prev_day = d - (24*3600*int(1e9))\n",
    "        # Check if day exists in df\n",
    "        if prev_day in days:  \n",
    "            # Find outcomes\n",
    "            outcome = notif_w_mindfulness_resp.loc[\n",
    "                (notif_w_mindfulness_resp.day == prev_day) &\n",
    "                (notif_w_mindfulness_resp.email == e), 'outcome'\n",
    "            ].values\n",
    "            # Check if 1 is an outcome (some mindfulness was done)\n",
    "            if 1 in outcome:\n",
    "                # Set prev day outcome\n",
    "                notif_w_mindfulness_resp.loc[\n",
    "                (notif_w_mindfulness_resp.day == d) &\n",
    "                (notif_w_mindfulness_resp.email == e), 'prev_day_outcome'\n",
    "            ] = 1"
   ]
  },
  {
   "cell_type": "markdown",
   "metadata": {},
   "source": [
    "## Run Logistic regression"
   ]
  },
  {
   "cell_type": "code",
   "execution_count": 137,
   "metadata": {},
   "outputs": [],
   "source": [
    "from statsmodels.discrete.discrete_model import Logit"
   ]
  },
  {
   "cell_type": "code",
   "execution_count": 138,
   "metadata": {},
   "outputs": [],
   "source": [
    "notif_w_mindfulness_resp['intercept'] = 1"
   ]
  },
  {
   "cell_type": "markdown",
   "metadata": {},
   "source": [
    "Going to add response to be binary for each category (yes with app might increase)"
   ]
  },
  {
   "cell_type": "code",
   "execution_count": 139,
   "metadata": {},
   "outputs": [],
   "source": [
    "notif_w_mindfulness_resp = pd.concat([\n",
    "    notif_w_mindfulness_resp,\n",
    "    pd.get_dummies(notif_w_mindfulness_resp['response'])\n",
    "], axis=1)"
   ]
  },
  {
   "cell_type": "code",
   "execution_count": 140,
   "metadata": {},
   "outputs": [
    {
     "data": {
      "text/html": [
       "<div>\n",
       "<style scoped>\n",
       "    .dataframe tbody tr th:only-of-type {\n",
       "        vertical-align: middle;\n",
       "    }\n",
       "\n",
       "    .dataframe tbody tr th {\n",
       "        vertical-align: top;\n",
       "    }\n",
       "\n",
       "    .dataframe thead th {\n",
       "        text-align: right;\n",
       "    }\n",
       "</style>\n",
       "<table border=\"1\" class=\"dataframe\">\n",
       "  <thead>\n",
       "    <tr style=\"text-align: right;\">\n",
       "      <th></th>\n",
       "      <th>email</th>\n",
       "      <th>timestamp_mindfulness</th>\n",
       "      <th>response</th>\n",
       "      <th>day</th>\n",
       "      <th>push_notification</th>\n",
       "      <th>timestamp</th>\n",
       "      <th>outcome</th>\n",
       "      <th>before</th>\n",
       "      <th>prev_day_outcome</th>\n",
       "      <th>intercept</th>\n",
       "      <th>no</th>\n",
       "      <th>yes-on-my-own</th>\n",
       "      <th>yes-with-app</th>\n",
       "    </tr>\n",
       "  </thead>\n",
       "  <tbody>\n",
       "    <tr>\n",
       "      <th>0</th>\n",
       "      <td>arhufnagle@gmail.com</td>\n",
       "      <td>2018-12-08 10:05:26</td>\n",
       "      <td>yes-with-app</td>\n",
       "      <td>2018-12-08</td>\n",
       "      <td>0.0</td>\n",
       "      <td>NaT</td>\n",
       "      <td>1</td>\n",
       "      <td>1</td>\n",
       "      <td>0</td>\n",
       "      <td>1</td>\n",
       "      <td>0</td>\n",
       "      <td>0</td>\n",
       "      <td>1</td>\n",
       "    </tr>\n",
       "    <tr>\n",
       "      <th>1</th>\n",
       "      <td>arhufnagle@gmail.com</td>\n",
       "      <td>2018-12-09 10:00:45</td>\n",
       "      <td>yes-with-app</td>\n",
       "      <td>2018-12-09</td>\n",
       "      <td>1.0</td>\n",
       "      <td>2018-12-09 00:19:00</td>\n",
       "      <td>1</td>\n",
       "      <td>1</td>\n",
       "      <td>1</td>\n",
       "      <td>1</td>\n",
       "      <td>0</td>\n",
       "      <td>0</td>\n",
       "      <td>1</td>\n",
       "    </tr>\n",
       "    <tr>\n",
       "      <th>2</th>\n",
       "      <td>arhufnagle@gmail.com</td>\n",
       "      <td>2018-12-10 10:47:24</td>\n",
       "      <td>yes-with-app</td>\n",
       "      <td>2018-12-10</td>\n",
       "      <td>1.0</td>\n",
       "      <td>2018-12-10 23:30:00</td>\n",
       "      <td>1</td>\n",
       "      <td>0</td>\n",
       "      <td>1</td>\n",
       "      <td>1</td>\n",
       "      <td>0</td>\n",
       "      <td>0</td>\n",
       "      <td>1</td>\n",
       "    </tr>\n",
       "    <tr>\n",
       "      <th>3</th>\n",
       "      <td>arhufnagle@gmail.com</td>\n",
       "      <td>2018-12-11 10:29:00</td>\n",
       "      <td>yes-with-app</td>\n",
       "      <td>2018-12-11</td>\n",
       "      <td>0.0</td>\n",
       "      <td>NaT</td>\n",
       "      <td>1</td>\n",
       "      <td>1</td>\n",
       "      <td>1</td>\n",
       "      <td>1</td>\n",
       "      <td>0</td>\n",
       "      <td>0</td>\n",
       "      <td>1</td>\n",
       "    </tr>\n",
       "    <tr>\n",
       "      <th>4</th>\n",
       "      <td>arhufnagle@gmail.com</td>\n",
       "      <td>2018-12-12 08:46:21</td>\n",
       "      <td>yes-with-app</td>\n",
       "      <td>2018-12-12</td>\n",
       "      <td>1.0</td>\n",
       "      <td>2018-12-12 23:30:00</td>\n",
       "      <td>1</td>\n",
       "      <td>0</td>\n",
       "      <td>1</td>\n",
       "      <td>1</td>\n",
       "      <td>0</td>\n",
       "      <td>0</td>\n",
       "      <td>1</td>\n",
       "    </tr>\n",
       "    <tr>\n",
       "      <th>...</th>\n",
       "      <td>...</td>\n",
       "      <td>...</td>\n",
       "      <td>...</td>\n",
       "      <td>...</td>\n",
       "      <td>...</td>\n",
       "      <td>...</td>\n",
       "      <td>...</td>\n",
       "      <td>...</td>\n",
       "      <td>...</td>\n",
       "      <td>...</td>\n",
       "      <td>...</td>\n",
       "      <td>...</td>\n",
       "      <td>...</td>\n",
       "    </tr>\n",
       "    <tr>\n",
       "      <th>210</th>\n",
       "      <td>ysmncs@gmail.com</td>\n",
       "      <td>2019-03-11 22:21:40</td>\n",
       "      <td>yes-with-app</td>\n",
       "      <td>2019-03-11</td>\n",
       "      <td>0.0</td>\n",
       "      <td>NaT</td>\n",
       "      <td>1</td>\n",
       "      <td>1</td>\n",
       "      <td>1</td>\n",
       "      <td>1</td>\n",
       "      <td>0</td>\n",
       "      <td>0</td>\n",
       "      <td>1</td>\n",
       "    </tr>\n",
       "    <tr>\n",
       "      <th>211</th>\n",
       "      <td>ysmncs@gmail.com</td>\n",
       "      <td>2019-03-15 00:29:37</td>\n",
       "      <td>no</td>\n",
       "      <td>2019-03-15</td>\n",
       "      <td>0.0</td>\n",
       "      <td>NaT</td>\n",
       "      <td>0</td>\n",
       "      <td>1</td>\n",
       "      <td>0</td>\n",
       "      <td>1</td>\n",
       "      <td>1</td>\n",
       "      <td>0</td>\n",
       "      <td>0</td>\n",
       "    </tr>\n",
       "    <tr>\n",
       "      <th>212</th>\n",
       "      <td>ysmncs@gmail.com</td>\n",
       "      <td>2019-03-15 22:15:15</td>\n",
       "      <td>yes-with-app</td>\n",
       "      <td>2019-03-15</td>\n",
       "      <td>0.0</td>\n",
       "      <td>NaT</td>\n",
       "      <td>1</td>\n",
       "      <td>1</td>\n",
       "      <td>0</td>\n",
       "      <td>1</td>\n",
       "      <td>0</td>\n",
       "      <td>0</td>\n",
       "      <td>1</td>\n",
       "    </tr>\n",
       "    <tr>\n",
       "      <th>213</th>\n",
       "      <td>ysmncs@gmail.com</td>\n",
       "      <td>2019-03-19 22:42:19</td>\n",
       "      <td>yes-on-my-own</td>\n",
       "      <td>2019-03-19</td>\n",
       "      <td>0.0</td>\n",
       "      <td>NaT</td>\n",
       "      <td>1</td>\n",
       "      <td>1</td>\n",
       "      <td>0</td>\n",
       "      <td>1</td>\n",
       "      <td>0</td>\n",
       "      <td>1</td>\n",
       "      <td>0</td>\n",
       "    </tr>\n",
       "    <tr>\n",
       "      <th>214</th>\n",
       "      <td>ysmncs@gmail.com</td>\n",
       "      <td>2019-03-21 21:32:31</td>\n",
       "      <td>yes-on-my-own</td>\n",
       "      <td>2019-03-21</td>\n",
       "      <td>0.0</td>\n",
       "      <td>NaT</td>\n",
       "      <td>1</td>\n",
       "      <td>1</td>\n",
       "      <td>0</td>\n",
       "      <td>1</td>\n",
       "      <td>0</td>\n",
       "      <td>1</td>\n",
       "      <td>0</td>\n",
       "    </tr>\n",
       "  </tbody>\n",
       "</table>\n",
       "<p>215 rows × 13 columns</p>\n",
       "</div>"
      ],
      "text/plain": [
       "                    email timestamp_mindfulness       response        day  \\\n",
       "0    arhufnagle@gmail.com   2018-12-08 10:05:26   yes-with-app 2018-12-08   \n",
       "1    arhufnagle@gmail.com   2018-12-09 10:00:45   yes-with-app 2018-12-09   \n",
       "2    arhufnagle@gmail.com   2018-12-10 10:47:24   yes-with-app 2018-12-10   \n",
       "3    arhufnagle@gmail.com   2018-12-11 10:29:00   yes-with-app 2018-12-11   \n",
       "4    arhufnagle@gmail.com   2018-12-12 08:46:21   yes-with-app 2018-12-12   \n",
       "..                    ...                   ...            ...        ...   \n",
       "210      ysmncs@gmail.com   2019-03-11 22:21:40   yes-with-app 2019-03-11   \n",
       "211      ysmncs@gmail.com   2019-03-15 00:29:37             no 2019-03-15   \n",
       "212      ysmncs@gmail.com   2019-03-15 22:15:15   yes-with-app 2019-03-15   \n",
       "213      ysmncs@gmail.com   2019-03-19 22:42:19  yes-on-my-own 2019-03-19   \n",
       "214      ysmncs@gmail.com   2019-03-21 21:32:31  yes-on-my-own 2019-03-21   \n",
       "\n",
       "      push_notification           timestamp  outcome  before  \\\n",
       "0                   0.0                 NaT        1       1   \n",
       "1                   1.0 2018-12-09 00:19:00        1       1   \n",
       "2                   1.0 2018-12-10 23:30:00        1       0   \n",
       "3                   0.0                 NaT        1       1   \n",
       "4                   1.0 2018-12-12 23:30:00        1       0   \n",
       "..                  ...                 ...      ...     ...   \n",
       "210                 0.0                 NaT        1       1   \n",
       "211                 0.0                 NaT        0       1   \n",
       "212                 0.0                 NaT        1       1   \n",
       "213                 0.0                 NaT        1       1   \n",
       "214                 0.0                 NaT        1       1   \n",
       "\n",
       "     prev_day_outcome  intercept  no  yes-on-my-own  yes-with-app  \n",
       "0                   0          1   0              0             1  \n",
       "1                   1          1   0              0             1  \n",
       "2                   1          1   0              0             1  \n",
       "3                   1          1   0              0             1  \n",
       "4                   1          1   0              0             1  \n",
       "..                ...        ...  ..            ...           ...  \n",
       "210                 1          1   0              0             1  \n",
       "211                 0          1   1              0             0  \n",
       "212                 0          1   0              0             1  \n",
       "213                 0          1   0              1             0  \n",
       "214                 0          1   0              1             0  \n",
       "\n",
       "[215 rows x 13 columns]"
      ]
     },
     "execution_count": 140,
     "metadata": {},
     "output_type": "execute_result"
    }
   ],
   "source": [
    "notif_w_mindfulness_resp"
   ]
  },
  {
   "cell_type": "code",
   "execution_count": 235,
   "metadata": {},
   "outputs": [],
   "source": [
    "def run_model(X, features, outcome_var):\n",
    "    model = Logit(X[outcome_var], X[features])\n",
    "    fit_model = model.fit(method='newton')\n",
    "    return fit_model.summary()"
   ]
  },
  {
   "cell_type": "code",
   "execution_count": 246,
   "metadata": {},
   "outputs": [
    {
     "name": "stdout",
     "output_type": "stream",
     "text": [
      "Optimization terminated successfully.\n",
      "         Current function value: 120.133093\n",
      "         Iterations 5\n"
     ]
    },
    {
     "name": "stderr",
     "output_type": "stream",
     "text": [
      "/Users/dadler/opt/anaconda3/lib/python3.7/site-packages/statsmodels/base/model.py:492: HessianInversionWarning: Inverting hessian failed, no bse or cov_params available\n",
      "  'available', HessianInversionWarning)\n",
      "/Users/dadler/opt/anaconda3/lib/python3.7/site-packages/statsmodels/base/model.py:492: HessianInversionWarning: Inverting hessian failed, no bse or cov_params available\n",
      "  'available', HessianInversionWarning)\n",
      "/Users/dadler/opt/anaconda3/lib/python3.7/site-packages/statsmodels/discrete/discrete_model.py:3390: RuntimeWarning: divide by zero encountered in double_scalars\n",
      "  return 1 - self.llf/self.llnull\n"
     ]
    },
    {
     "data": {
      "text/html": [
       "<table class=\"simpletable\">\n",
       "<caption>Logit Regression Results</caption>\n",
       "<tr>\n",
       "  <th>Dep. Variable:</th>     <td>yes-with-app</td>   <th>  No. Observations:  </th>  <td>   191</td> \n",
       "</tr>\n",
       "<tr>\n",
       "  <th>Model:</th>                 <td>Logit</td>      <th>  Df Residuals:      </th>  <td>   189</td> \n",
       "</tr>\n",
       "<tr>\n",
       "  <th>Method:</th>                 <td>MLE</td>       <th>  Df Model:          </th>  <td>     1</td> \n",
       "</tr>\n",
       "<tr>\n",
       "  <th>Date:</th>            <td>Thu, 23 Jan 2020</td> <th>  Pseudo R-squ.:     </th>  <td>   inf</td> \n",
       "</tr>\n",
       "<tr>\n",
       "  <th>Time:</th>                <td>22:30:16</td>     <th>  Log-Likelihood:    </th> <td> -22945.</td>\n",
       "</tr>\n",
       "<tr>\n",
       "  <th>converged:</th>             <td>True</td>       <th>  LL-Null:           </th> <td>  0.0000</td>\n",
       "</tr>\n",
       "<tr>\n",
       "  <th>Covariance Type:</th>     <td>nonrobust</td>    <th>  LLR p-value:       </th>  <td> 1.000</td> \n",
       "</tr>\n",
       "</table>\n",
       "<table class=\"simpletable\">\n",
       "<tr>\n",
       "           <td></td>             <th>coef</th>     <th>std err</th>      <th>z</th>      <th>P>|z|</th>  <th>[0.025</th>    <th>0.975]</th>  \n",
       "</tr>\n",
       "<tr>\n",
       "  <th> push_notification</th> <td>    0.7172</td> <td>    0.335</td> <td>    2.143</td> <td> 0.032</td> <td>    0.061</td> <td>    1.373</td>\n",
       "</tr>\n",
       "<tr>\n",
       "  <th>intercept</th>          <td>   -0.8714</td> <td>    0.186</td> <td>   -4.685</td> <td> 0.000</td> <td>   -1.236</td> <td>   -0.507</td>\n",
       "</tr>\n",
       "</table>"
      ],
      "text/plain": [
       "<class 'statsmodels.iolib.summary.Summary'>\n",
       "\"\"\"\n",
       "                           Logit Regression Results                           \n",
       "==============================================================================\n",
       "Dep. Variable:           yes-with-app   No. Observations:                  191\n",
       "Model:                          Logit   Df Residuals:                      189\n",
       "Method:                           MLE   Df Model:                            1\n",
       "Date:                Thu, 23 Jan 2020   Pseudo R-squ.:                     inf\n",
       "Time:                        22:30:16   Log-Likelihood:                -22945.\n",
       "converged:                       True   LL-Null:                        0.0000\n",
       "Covariance Type:            nonrobust   LLR p-value:                     1.000\n",
       "======================================================================================\n",
       "                         coef    std err          z      P>|z|      [0.025      0.975]\n",
       "--------------------------------------------------------------------------------------\n",
       " push_notification     0.7172      0.335      2.143      0.032       0.061       1.373\n",
       "intercept             -0.8714      0.186     -4.685      0.000      -1.236      -0.507\n",
       "======================================================================================\n",
       "\"\"\""
      ]
     },
     "execution_count": 246,
     "metadata": {},
     "output_type": "execute_result"
    }
   ],
   "source": [
    "f = [' push_notification', 'intercept']# 'prev_day_outcome', 'intercept']\n",
    "o = 'yes-with-app'\n",
    "\n",
    "yes_w_app_summ = run_model(data_for_model, f, o)\n",
    "\n",
    "yes_w_app_summ"
   ]
  },
  {
   "cell_type": "code",
   "execution_count": 247,
   "metadata": {},
   "outputs": [
    {
     "data": {
      "text/html": [
       "<div>\n",
       "<style scoped>\n",
       "    .dataframe tbody tr th:only-of-type {\n",
       "        vertical-align: middle;\n",
       "    }\n",
       "\n",
       "    .dataframe tbody tr th {\n",
       "        vertical-align: top;\n",
       "    }\n",
       "\n",
       "    .dataframe thead th {\n",
       "        text-align: right;\n",
       "    }\n",
       "</style>\n",
       "<table border=\"1\" class=\"dataframe\">\n",
       "  <thead>\n",
       "    <tr style=\"text-align: right;\">\n",
       "      <th></th>\n",
       "      <th>coef</th>\n",
       "      <th>std err</th>\n",
       "      <th>z</th>\n",
       "      <th>P&gt;|z|</th>\n",
       "      <th>[0.025</th>\n",
       "      <th>0.975]</th>\n",
       "    </tr>\n",
       "  </thead>\n",
       "  <tbody>\n",
       "    <tr>\n",
       "      <th>push_notification</th>\n",
       "      <td>0.7172</td>\n",
       "      <td>0.335</td>\n",
       "      <td>2.143</td>\n",
       "      <td>0.032</td>\n",
       "      <td>0.061</td>\n",
       "      <td>1.373</td>\n",
       "    </tr>\n",
       "    <tr>\n",
       "      <th>intercept</th>\n",
       "      <td>-0.8714</td>\n",
       "      <td>0.186</td>\n",
       "      <td>-4.685</td>\n",
       "      <td>0.000</td>\n",
       "      <td>-1.236</td>\n",
       "      <td>-0.507</td>\n",
       "    </tr>\n",
       "  </tbody>\n",
       "</table>\n",
       "</div>"
      ],
      "text/plain": [
       "                     coef  std err      z  P>|z|  [0.025  0.975]\n",
       "push_notification  0.7172    0.335  2.143  0.032   0.061   1.373\n",
       "intercept         -0.8714    0.186 -4.685  0.000  -1.236  -0.507"
      ]
     },
     "execution_count": 247,
     "metadata": {},
     "output_type": "execute_result"
    }
   ],
   "source": [
    "pd.read_html(yes_w_app_summ.tables[1].as_html(), header=0, index_col=0)[0]"
   ]
  },
  {
   "cell_type": "code",
   "execution_count": 238,
   "metadata": {},
   "outputs": [
    {
     "name": "stdout",
     "output_type": "stream",
     "text": [
      "Optimization terminated successfully.\n",
      "         Current function value: 158.670758\n",
      "         Iterations 6\n"
     ]
    },
    {
     "name": "stderr",
     "output_type": "stream",
     "text": [
      "/Users/dadler/opt/anaconda3/lib/python3.7/site-packages/statsmodels/base/model.py:492: HessianInversionWarning: Inverting hessian failed, no bse or cov_params available\n",
      "  'available', HessianInversionWarning)\n",
      "/Users/dadler/opt/anaconda3/lib/python3.7/site-packages/statsmodels/base/model.py:492: HessianInversionWarning: Inverting hessian failed, no bse or cov_params available\n",
      "  'available', HessianInversionWarning)\n",
      "/Users/dadler/opt/anaconda3/lib/python3.7/site-packages/statsmodels/discrete/discrete_model.py:3390: RuntimeWarning: divide by zero encountered in double_scalars\n",
      "  return 1 - self.llf/self.llnull\n"
     ]
    },
    {
     "data": {
      "text/html": [
       "<table class=\"simpletable\">\n",
       "<caption>Logit Regression Results</caption>\n",
       "<tr>\n",
       "  <th>Dep. Variable:</th>     <td>yes-on-my-own</td>  <th>  No. Observations:  </th>  <td>   191</td> \n",
       "</tr>\n",
       "<tr>\n",
       "  <th>Model:</th>                 <td>Logit</td>      <th>  Df Residuals:      </th>  <td>   188</td> \n",
       "</tr>\n",
       "<tr>\n",
       "  <th>Method:</th>                 <td>MLE</td>       <th>  Df Model:          </th>  <td>     2</td> \n",
       "</tr>\n",
       "<tr>\n",
       "  <th>Date:</th>            <td>Thu, 23 Jan 2020</td> <th>  Pseudo R-squ.:     </th>  <td>   inf</td> \n",
       "</tr>\n",
       "<tr>\n",
       "  <th>Time:</th>                <td>17:07:45</td>     <th>  Log-Likelihood:    </th> <td> -30306.</td>\n",
       "</tr>\n",
       "<tr>\n",
       "  <th>converged:</th>             <td>True</td>       <th>  LL-Null:           </th> <td>  0.0000</td>\n",
       "</tr>\n",
       "<tr>\n",
       "  <th>Covariance Type:</th>     <td>nonrobust</td>    <th>  LLR p-value:       </th>  <td> 1.000</td> \n",
       "</tr>\n",
       "</table>\n",
       "<table class=\"simpletable\">\n",
       "<tr>\n",
       "           <td></td>             <th>coef</th>     <th>std err</th>      <th>z</th>      <th>P>|z|</th>  <th>[0.025</th>    <th>0.975]</th>  \n",
       "</tr>\n",
       "<tr>\n",
       "  <th> push_notification</th> <td>   -1.0537</td> <td>    0.411</td> <td>   -2.562</td> <td> 0.010</td> <td>   -1.860</td> <td>   -0.248</td>\n",
       "</tr>\n",
       "<tr>\n",
       "  <th>prev_day_outcome</th>   <td>    0.7974</td> <td>    0.322</td> <td>    2.478</td> <td> 0.013</td> <td>    0.167</td> <td>    1.428</td>\n",
       "</tr>\n",
       "<tr>\n",
       "  <th>intercept</th>          <td>   -0.8339</td> <td>    0.231</td> <td>   -3.607</td> <td> 0.000</td> <td>   -1.287</td> <td>   -0.381</td>\n",
       "</tr>\n",
       "</table>"
      ],
      "text/plain": [
       "<class 'statsmodels.iolib.summary.Summary'>\n",
       "\"\"\"\n",
       "                           Logit Regression Results                           \n",
       "==============================================================================\n",
       "Dep. Variable:          yes-on-my-own   No. Observations:                  191\n",
       "Model:                          Logit   Df Residuals:                      188\n",
       "Method:                           MLE   Df Model:                            2\n",
       "Date:                Thu, 23 Jan 2020   Pseudo R-squ.:                     inf\n",
       "Time:                        17:07:45   Log-Likelihood:                -30306.\n",
       "converged:                       True   LL-Null:                        0.0000\n",
       "Covariance Type:            nonrobust   LLR p-value:                     1.000\n",
       "======================================================================================\n",
       "                         coef    std err          z      P>|z|      [0.025      0.975]\n",
       "--------------------------------------------------------------------------------------\n",
       " push_notification    -1.0537      0.411     -2.562      0.010      -1.860      -0.248\n",
       "prev_day_outcome       0.7974      0.322      2.478      0.013       0.167       1.428\n",
       "intercept             -0.8339      0.231     -3.607      0.000      -1.287      -0.381\n",
       "======================================================================================\n",
       "\"\"\""
      ]
     },
     "execution_count": 238,
     "metadata": {},
     "output_type": "execute_result"
    }
   ],
   "source": [
    "f = [' push_notification', 'prev_day_outcome', 'intercept']\n",
    "o = 'yes-on-my-own'\n",
    "\n",
    "yes_on_my_own_summ = run_model(data_for_model, f, o)\n",
    "\n",
    "yes_on_my_own_summ"
   ]
  },
  {
   "cell_type": "code",
   "execution_count": 240,
   "metadata": {},
   "outputs": [
    {
     "data": {
      "text/html": [
       "<div>\n",
       "<style scoped>\n",
       "    .dataframe tbody tr th:only-of-type {\n",
       "        vertical-align: middle;\n",
       "    }\n",
       "\n",
       "    .dataframe tbody tr th {\n",
       "        vertical-align: top;\n",
       "    }\n",
       "\n",
       "    .dataframe thead th {\n",
       "        text-align: right;\n",
       "    }\n",
       "</style>\n",
       "<table border=\"1\" class=\"dataframe\">\n",
       "  <thead>\n",
       "    <tr style=\"text-align: right;\">\n",
       "      <th></th>\n",
       "      <th>coef</th>\n",
       "      <th>std err</th>\n",
       "      <th>z</th>\n",
       "      <th>P&gt;|z|</th>\n",
       "      <th>[0.025</th>\n",
       "      <th>0.975]</th>\n",
       "    </tr>\n",
       "  </thead>\n",
       "  <tbody>\n",
       "    <tr>\n",
       "      <th>push_notification</th>\n",
       "      <td>-1.0537</td>\n",
       "      <td>0.411</td>\n",
       "      <td>-2.562</td>\n",
       "      <td>0.010</td>\n",
       "      <td>-1.860</td>\n",
       "      <td>-0.248</td>\n",
       "    </tr>\n",
       "    <tr>\n",
       "      <th>prev_day_outcome</th>\n",
       "      <td>0.7974</td>\n",
       "      <td>0.322</td>\n",
       "      <td>2.478</td>\n",
       "      <td>0.013</td>\n",
       "      <td>0.167</td>\n",
       "      <td>1.428</td>\n",
       "    </tr>\n",
       "    <tr>\n",
       "      <th>intercept</th>\n",
       "      <td>-0.8339</td>\n",
       "      <td>0.231</td>\n",
       "      <td>-3.607</td>\n",
       "      <td>0.000</td>\n",
       "      <td>-1.287</td>\n",
       "      <td>-0.381</td>\n",
       "    </tr>\n",
       "  </tbody>\n",
       "</table>\n",
       "</div>"
      ],
      "text/plain": [
       "                     coef  std err      z  P>|z|  [0.025  0.975]\n",
       "push_notification -1.0537    0.411 -2.562  0.010  -1.860  -0.248\n",
       "prev_day_outcome   0.7974    0.322  2.478  0.013   0.167   1.428\n",
       "intercept         -0.8339    0.231 -3.607  0.000  -1.287  -0.381"
      ]
     },
     "execution_count": 240,
     "metadata": {},
     "output_type": "execute_result"
    }
   ],
   "source": [
    "pd.read_html(yes_on_my_own_summ.tables[1].as_html(), header=0, index_col=0)[0]"
   ]
  },
  {
   "cell_type": "code",
   "execution_count": 241,
   "metadata": {},
   "outputs": [
    {
     "data": {
      "text/plain": [
       "(191, 13)"
      ]
     },
     "execution_count": 241,
     "metadata": {},
     "output_type": "execute_result"
    }
   ],
   "source": [
    "data_for_model.shape"
   ]
  },
  {
   "cell_type": "code",
   "execution_count": 245,
   "metadata": {},
   "outputs": [
    {
     "data": {
      "text/html": [
       "<div>\n",
       "<style scoped>\n",
       "    .dataframe tbody tr th:only-of-type {\n",
       "        vertical-align: middle;\n",
       "    }\n",
       "\n",
       "    .dataframe tbody tr th {\n",
       "        vertical-align: top;\n",
       "    }\n",
       "\n",
       "    .dataframe thead th {\n",
       "        text-align: right;\n",
       "    }\n",
       "</style>\n",
       "<table border=\"1\" class=\"dataframe\">\n",
       "  <thead>\n",
       "    <tr style=\"text-align: right;\">\n",
       "      <th></th>\n",
       "      <th>email</th>\n",
       "      <th>timestamp_mindfulness</th>\n",
       "      <th>response</th>\n",
       "      <th>day</th>\n",
       "      <th>push_notification</th>\n",
       "      <th>timestamp</th>\n",
       "      <th>outcome</th>\n",
       "      <th>before</th>\n",
       "      <th>prev_day_outcome</th>\n",
       "      <th>intercept</th>\n",
       "      <th>no</th>\n",
       "      <th>yes-on-my-own</th>\n",
       "      <th>yes-with-app</th>\n",
       "    </tr>\n",
       "  </thead>\n",
       "  <tbody>\n",
       "    <tr>\n",
       "      <th>0</th>\n",
       "      <td>arhufnagle@gmail.com</td>\n",
       "      <td>2018-12-08 10:05:26</td>\n",
       "      <td>yes-with-app</td>\n",
       "      <td>2018-12-08</td>\n",
       "      <td>0.0</td>\n",
       "      <td>NaT</td>\n",
       "      <td>1</td>\n",
       "      <td>1</td>\n",
       "      <td>0</td>\n",
       "      <td>1</td>\n",
       "      <td>0</td>\n",
       "      <td>0</td>\n",
       "      <td>1</td>\n",
       "    </tr>\n",
       "    <tr>\n",
       "      <th>1</th>\n",
       "      <td>arhufnagle@gmail.com</td>\n",
       "      <td>2018-12-09 10:00:45</td>\n",
       "      <td>yes-with-app</td>\n",
       "      <td>2018-12-09</td>\n",
       "      <td>1.0</td>\n",
       "      <td>2018-12-09 00:19:00</td>\n",
       "      <td>1</td>\n",
       "      <td>1</td>\n",
       "      <td>1</td>\n",
       "      <td>1</td>\n",
       "      <td>0</td>\n",
       "      <td>0</td>\n",
       "      <td>1</td>\n",
       "    </tr>\n",
       "    <tr>\n",
       "      <th>3</th>\n",
       "      <td>arhufnagle@gmail.com</td>\n",
       "      <td>2018-12-11 10:29:00</td>\n",
       "      <td>yes-with-app</td>\n",
       "      <td>2018-12-11</td>\n",
       "      <td>0.0</td>\n",
       "      <td>NaT</td>\n",
       "      <td>1</td>\n",
       "      <td>1</td>\n",
       "      <td>1</td>\n",
       "      <td>1</td>\n",
       "      <td>0</td>\n",
       "      <td>0</td>\n",
       "      <td>1</td>\n",
       "    </tr>\n",
       "    <tr>\n",
       "      <th>6</th>\n",
       "      <td>arhufnagle@gmail.com</td>\n",
       "      <td>2018-12-14 09:59:25</td>\n",
       "      <td>yes-with-app</td>\n",
       "      <td>2018-12-14</td>\n",
       "      <td>0.0</td>\n",
       "      <td>NaT</td>\n",
       "      <td>1</td>\n",
       "      <td>1</td>\n",
       "      <td>1</td>\n",
       "      <td>1</td>\n",
       "      <td>0</td>\n",
       "      <td>0</td>\n",
       "      <td>1</td>\n",
       "    </tr>\n",
       "    <tr>\n",
       "      <th>7</th>\n",
       "      <td>arhufnagle@gmail.com</td>\n",
       "      <td>2018-12-15 21:05:33</td>\n",
       "      <td>no</td>\n",
       "      <td>2018-12-15</td>\n",
       "      <td>0.0</td>\n",
       "      <td>NaT</td>\n",
       "      <td>0</td>\n",
       "      <td>1</td>\n",
       "      <td>1</td>\n",
       "      <td>1</td>\n",
       "      <td>1</td>\n",
       "      <td>0</td>\n",
       "      <td>0</td>\n",
       "    </tr>\n",
       "    <tr>\n",
       "      <th>...</th>\n",
       "      <td>...</td>\n",
       "      <td>...</td>\n",
       "      <td>...</td>\n",
       "      <td>...</td>\n",
       "      <td>...</td>\n",
       "      <td>...</td>\n",
       "      <td>...</td>\n",
       "      <td>...</td>\n",
       "      <td>...</td>\n",
       "      <td>...</td>\n",
       "      <td>...</td>\n",
       "      <td>...</td>\n",
       "      <td>...</td>\n",
       "    </tr>\n",
       "    <tr>\n",
       "      <th>210</th>\n",
       "      <td>ysmncs@gmail.com</td>\n",
       "      <td>2019-03-11 22:21:40</td>\n",
       "      <td>yes-with-app</td>\n",
       "      <td>2019-03-11</td>\n",
       "      <td>0.0</td>\n",
       "      <td>NaT</td>\n",
       "      <td>1</td>\n",
       "      <td>1</td>\n",
       "      <td>1</td>\n",
       "      <td>1</td>\n",
       "      <td>0</td>\n",
       "      <td>0</td>\n",
       "      <td>1</td>\n",
       "    </tr>\n",
       "    <tr>\n",
       "      <th>211</th>\n",
       "      <td>ysmncs@gmail.com</td>\n",
       "      <td>2019-03-15 00:29:37</td>\n",
       "      <td>no</td>\n",
       "      <td>2019-03-15</td>\n",
       "      <td>0.0</td>\n",
       "      <td>NaT</td>\n",
       "      <td>0</td>\n",
       "      <td>1</td>\n",
       "      <td>0</td>\n",
       "      <td>1</td>\n",
       "      <td>1</td>\n",
       "      <td>0</td>\n",
       "      <td>0</td>\n",
       "    </tr>\n",
       "    <tr>\n",
       "      <th>212</th>\n",
       "      <td>ysmncs@gmail.com</td>\n",
       "      <td>2019-03-15 22:15:15</td>\n",
       "      <td>yes-with-app</td>\n",
       "      <td>2019-03-15</td>\n",
       "      <td>0.0</td>\n",
       "      <td>NaT</td>\n",
       "      <td>1</td>\n",
       "      <td>1</td>\n",
       "      <td>0</td>\n",
       "      <td>1</td>\n",
       "      <td>0</td>\n",
       "      <td>0</td>\n",
       "      <td>1</td>\n",
       "    </tr>\n",
       "    <tr>\n",
       "      <th>213</th>\n",
       "      <td>ysmncs@gmail.com</td>\n",
       "      <td>2019-03-19 22:42:19</td>\n",
       "      <td>yes-on-my-own</td>\n",
       "      <td>2019-03-19</td>\n",
       "      <td>0.0</td>\n",
       "      <td>NaT</td>\n",
       "      <td>1</td>\n",
       "      <td>1</td>\n",
       "      <td>0</td>\n",
       "      <td>1</td>\n",
       "      <td>0</td>\n",
       "      <td>1</td>\n",
       "      <td>0</td>\n",
       "    </tr>\n",
       "    <tr>\n",
       "      <th>214</th>\n",
       "      <td>ysmncs@gmail.com</td>\n",
       "      <td>2019-03-21 21:32:31</td>\n",
       "      <td>yes-on-my-own</td>\n",
       "      <td>2019-03-21</td>\n",
       "      <td>0.0</td>\n",
       "      <td>NaT</td>\n",
       "      <td>1</td>\n",
       "      <td>1</td>\n",
       "      <td>0</td>\n",
       "      <td>1</td>\n",
       "      <td>0</td>\n",
       "      <td>1</td>\n",
       "      <td>0</td>\n",
       "    </tr>\n",
       "  </tbody>\n",
       "</table>\n",
       "<p>191 rows × 13 columns</p>\n",
       "</div>"
      ],
      "text/plain": [
       "                    email timestamp_mindfulness       response        day  \\\n",
       "0    arhufnagle@gmail.com   2018-12-08 10:05:26   yes-with-app 2018-12-08   \n",
       "1    arhufnagle@gmail.com   2018-12-09 10:00:45   yes-with-app 2018-12-09   \n",
       "3    arhufnagle@gmail.com   2018-12-11 10:29:00   yes-with-app 2018-12-11   \n",
       "6    arhufnagle@gmail.com   2018-12-14 09:59:25   yes-with-app 2018-12-14   \n",
       "7    arhufnagle@gmail.com   2018-12-15 21:05:33             no 2018-12-15   \n",
       "..                    ...                   ...            ...        ...   \n",
       "210      ysmncs@gmail.com   2019-03-11 22:21:40   yes-with-app 2019-03-11   \n",
       "211      ysmncs@gmail.com   2019-03-15 00:29:37             no 2019-03-15   \n",
       "212      ysmncs@gmail.com   2019-03-15 22:15:15   yes-with-app 2019-03-15   \n",
       "213      ysmncs@gmail.com   2019-03-19 22:42:19  yes-on-my-own 2019-03-19   \n",
       "214      ysmncs@gmail.com   2019-03-21 21:32:31  yes-on-my-own 2019-03-21   \n",
       "\n",
       "      push_notification           timestamp  outcome  before  \\\n",
       "0                   0.0                 NaT        1       1   \n",
       "1                   1.0 2018-12-09 00:19:00        1       1   \n",
       "3                   0.0                 NaT        1       1   \n",
       "6                   0.0                 NaT        1       1   \n",
       "7                   0.0                 NaT        0       1   \n",
       "..                  ...                 ...      ...     ...   \n",
       "210                 0.0                 NaT        1       1   \n",
       "211                 0.0                 NaT        0       1   \n",
       "212                 0.0                 NaT        1       1   \n",
       "213                 0.0                 NaT        1       1   \n",
       "214                 0.0                 NaT        1       1   \n",
       "\n",
       "     prev_day_outcome  intercept  no  yes-on-my-own  yes-with-app  \n",
       "0                   0          1   0              0             1  \n",
       "1                   1          1   0              0             1  \n",
       "3                   1          1   0              0             1  \n",
       "6                   1          1   0              0             1  \n",
       "7                   1          1   1              0             0  \n",
       "..                ...        ...  ..            ...           ...  \n",
       "210                 1          1   0              0             1  \n",
       "211                 0          1   1              0             0  \n",
       "212                 0          1   0              0             1  \n",
       "213                 0          1   0              1             0  \n",
       "214                 0          1   0              1             0  \n",
       "\n",
       "[191 rows x 13 columns]"
      ]
     },
     "execution_count": 245,
     "metadata": {},
     "output_type": "execute_result"
    }
   ],
   "source": [
    "data_for_model"
   ]
  },
  {
   "cell_type": "code",
   "execution_count": null,
   "metadata": {},
   "outputs": [],
   "source": []
  }
 ],
 "metadata": {
  "kernelspec": {
   "display_name": "Python 3",
   "language": "python",
   "name": "python3"
  },
  "language_info": {
   "codemirror_mode": {
    "name": "ipython",
    "version": 3
   },
   "file_extension": ".py",
   "mimetype": "text/x-python",
   "name": "python",
   "nbconvert_exporter": "python",
   "pygments_lexer": "ipython3",
   "version": "3.7.6"
  }
 },
 "nbformat": 4,
 "nbformat_minor": 2
}
