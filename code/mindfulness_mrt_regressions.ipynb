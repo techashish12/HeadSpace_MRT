{
 "cells": [
  {
   "cell_type": "markdown",
   "metadata": {},
   "source": [
    "# Mindfulness MRT Exploration\n",
    "\n",
    "Get to know data and see if there are interesting results"
   ]
  },
  {
   "cell_type": "markdown",
   "metadata": {},
   "source": [
    "## Imports"
   ]
  },
  {
   "cell_type": "code",
   "execution_count": 1,
   "metadata": {},
   "outputs": [],
   "source": [
    "import pandas as pd\n",
    "import numpy as np\n",
    "from statsmodels.discrete.discrete_model import Logit\n",
    "import statsmodels.api as sm"
   ]
  },
  {
   "cell_type": "markdown",
   "metadata": {},
   "source": [
    "## Data upload"
   ]
  },
  {
   "cell_type": "code",
   "execution_count": 2,
   "metadata": {},
   "outputs": [],
   "source": [
    "# App logs\n",
    "app_logs = pd.read_csv('../mindfulness-data/app-logs-headspace.csv')\n",
    "\n",
    "# Daily survey\n",
    "daily_survey = pd.read_csv('../mindfulness-data/daily-survey.csv')\n",
    "\n",
    "# Mobile survey\n",
    "mobile_survey = pd.read_csv('../mindfulness-data/mobile-surveys.csv')\n",
    "\n",
    "# Notification event\n",
    "notif_event = pd.read_csv('../mindfulness-data/notif-event.csv')\n",
    "\n",
    "# PAM \n",
    "pam = pd.read_csv('../mindfulness-data/pam.csv')\n",
    "\n",
    "# Participants\n",
    "participants = pd.read_csv('../mindfulness-data/participants.csv')"
   ]
  },
  {
   "cell_type": "markdown",
   "metadata": {},
   "source": [
    "## Data cleaning"
   ]
  },
  {
   "cell_type": "markdown",
   "metadata": {},
   "source": [
    "Get relevant participants"
   ]
  },
  {
   "cell_type": "code",
   "execution_count": 3,
   "metadata": {},
   "outputs": [],
   "source": [
    "# Get participants ids\n",
    "participant_emails = participants.email.values\n",
    "\n",
    "# Filter daily_survey\n",
    "daily_survey_filt = daily_survey.loc[daily_survey.email.isin(participant_emails), :]"
   ]
  },
  {
   "cell_type": "markdown",
   "metadata": {},
   "source": [
    "Make dummy vars for method and content type"
   ]
  },
  {
   "cell_type": "code",
   "execution_count": 4,
   "metadata": {},
   "outputs": [
    {
     "name": "stderr",
     "output_type": "stream",
     "text": [
      "/Users/dadler/opt/anaconda3/lib/python3.7/site-packages/ipykernel_launcher.py:1: SettingWithCopyWarning: \n",
      "A value is trying to be set on a copy of a slice from a DataFrame.\n",
      "Try using .loc[row_indexer,col_indexer] = value instead\n",
      "\n",
      "See the caveats in the documentation: http://pandas.pydata.org/pandas-docs/stable/user_guide/indexing.html#returning-a-view-versus-a-copy\n",
      "  \"\"\"Entry point for launching an IPython kernel.\n"
     ]
    }
   ],
   "source": [
    "daily_survey_filt['method_content'] = daily_survey_filt['method'] + '|' + daily_survey_filt['content']"
   ]
  },
  {
   "cell_type": "code",
   "execution_count": 5,
   "metadata": {},
   "outputs": [],
   "source": [
    "# Add on dummy vars\n",
    "daily_survey_filt = pd.concat([daily_survey_filt, pd.get_dummies(daily_survey_filt['method'])], axis=1)\n",
    "daily_survey_filt = pd.concat([daily_survey_filt, pd.get_dummies(daily_survey_filt['method_content'])], axis=1)\n",
    "\n",
    "# Add on timestamp\n",
    "daily_survey_filt['timestamp'] = pd.to_datetime(daily_survey_filt['alarm_millis'], unit='ms')"
   ]
  },
  {
   "cell_type": "markdown",
   "metadata": {},
   "source": [
    "Mobile survey - get into a spot whre I could do regression"
   ]
  },
  {
   "cell_type": "code",
   "execution_count": 6,
   "metadata": {},
   "outputs": [],
   "source": [
    "mobile_survey_filt = mobile_survey.loc[mobile_survey.email.isin(participant_emails), :]"
   ]
  },
  {
   "cell_type": "code",
   "execution_count": 278,
   "metadata": {},
   "outputs": [],
   "source": [
    "ids = []\n",
    "email = []\n",
    "code = []\n",
    "header = []\n",
    "timestamp = []\n",
    "response = []\n",
    "created_at = []\n",
    "\n",
    "# Expand the survey responses\n",
    "for ind in mobile_survey_filt.index:\n",
    "    response_split = mobile_survey_filt.loc[ind, 'response'].split(';')\n",
    "    # Go through each response split and log\n",
    "    for r in response_split:\n",
    "        temp = r.split('--18000000,')\n",
    "        if len(temp) > 1:\n",
    "            # Append\n",
    "            ids.append(mobile_survey_filt.loc[ind, 'id'])\n",
    "            email.append(mobile_survey_filt.loc[ind, 'email'])\n",
    "            code.append(mobile_survey_filt.loc[ind, 'code'])\n",
    "            header.append(mobile_survey_filt.loc[ind, 'header'])\n",
    "            timestamp.append(temp[0])\n",
    "            response.append(temp[1][:-1])\n",
    "            created_at.append(mobile_survey_filt.loc[ind, 'created_at'])\n",
    "            \n",
    "mobile_survey_cleaned = pd.DataFrame({\n",
    "    'id': ids,\n",
    "    'email': email,\n",
    "    'code': code,\n",
    "    'header': header,\n",
    "    'timestamp_mindfulness': timestamp,\n",
    "    'response': response,\n",
    "    'created_at': created_at\n",
    "})\n",
    "mobile_survey_cleaned['timestamp_mindfulness'] = pd.to_datetime(\n",
    "    mobile_survey_cleaned['timestamp_mindfulness'],\n",
    "    format='%Y-%m-%dT%H:%M:%S'\n",
    ")\n",
    "\n",
    "pam['timestamp_z'] = [i.split('--')[0] for i in pam.timestamp_z.values]\n",
    "pam['timestamp_z'] = [i.replace('-10800000', '') for i in pam.timestamp_z.values]\n",
    "\n",
    "pam['timestamp'] = pd.to_datetime(\n",
    "    pam['timestamp_z'],\n",
    "    format='%Y-%m-%dT%H:%M:%S'\n",
    ")"
   ]
  },
  {
   "cell_type": "code",
   "execution_count": 279,
   "metadata": {},
   "outputs": [],
   "source": [
    "mobile_survey_cleaned['day'] = mobile_survey_cleaned.timestamp_mindfulness.dt.floor('D')\n",
    "daily_survey_filt['day'] = daily_survey_filt.timestamp.dt.floor('D')\n",
    "app_logs['created_at'] = pd.to_datetime(app_logs['created_at'])\n",
    "app_logs['day'] = app_logs['created_at'].dt.floor('d')\n",
    "pam['timestamp'] = pd.to_datetime(pam['timestamp'])\n",
    "pam['day'] = pam['timestamp'].dt.floor('d')"
   ]
  },
  {
   "cell_type": "markdown",
   "metadata": {},
   "source": [
    "Clean PAM"
   ]
  },
  {
   "cell_type": "code",
   "execution_count": 280,
   "metadata": {},
   "outputs": [],
   "source": [
    "# Get indices\n",
    "ind_swap = pam.loc[pam.mood.isin([str(i) for i in range(1, 5)]), :].index\n",
    "\n",
    "# Get values\n",
    "mood = pam.loc[ind_swap, 'positive_affect'].values\n",
    "negative_affect = pam.loc[ind_swap, 'affect_valence'].values\n",
    "positive_affect = pam.loc[ind_swap, 'affect_arousal'].values\n",
    "affect_arousal = pam.loc[ind_swap, 'mood'].astype(int).values\n",
    "affect_valence = pam.loc[ind_swap, 'negative_affect']\n",
    "\n",
    "# Swap\n",
    "pam.loc[ind_swap, 'mood'] = mood\n",
    "pam.loc[ind_swap, 'negative_affect'] = negative_affect\n",
    "pam.loc[ind_swap, 'positive_affect'] = positive_affect\n",
    "pam.loc[ind_swap, 'affect_arousal'] = affect_arousal\n",
    "pam.loc[ind_swap, 'affect_valence'] = affect_valence"
   ]
  },
  {
   "cell_type": "markdown",
   "metadata": {},
   "source": [
    "Get once daily"
   ]
  },
  {
   "cell_type": "code",
   "execution_count": 281,
   "metadata": {},
   "outputs": [],
   "source": [
    "pam['negative_affect'] = pam.negative_affect.astype(int)\n",
    "pam['positive_affect'] = pam.positive_affect.astype(int)"
   ]
  },
  {
   "cell_type": "markdown",
   "metadata": {},
   "source": [
    "Need to group app_logs"
   ]
  },
  {
   "cell_type": "code",
   "execution_count": 286,
   "metadata": {},
   "outputs": [],
   "source": [
    "app_logs_day = app_logs.groupby(['day', 'worker_id'], as_index=False)['time_seconds'].sum()\n",
    "app_logs_day.rename(columns={'worker_id': 'email'}, inplace=True)"
   ]
  },
  {
   "cell_type": "markdown",
   "metadata": {},
   "source": [
    "Join to be able to see whether notification led to app response."
   ]
  },
  {
   "cell_type": "markdown",
   "metadata": {},
   "source": [
    "#### Fix timing information\n",
    "\n",
    "Will push day back by one, if the survey was answered before 5AM\n",
    "\n",
    "Mobile survey file."
   ]
  },
  {
   "cell_type": "code",
   "execution_count": 283,
   "metadata": {},
   "outputs": [],
   "source": [
    "# First get the days where it's early in the morning and shift\n",
    "mobile_survey_cleaned_shift = mobile_survey_cleaned.copy()\n",
    "mobile_survey_cleaned_shift = mobile_survey_cleaned_shift.sort_values(\n",
    "    by=['email', 'timestamp_mindfulness']).reset_index(drop=True)\n",
    "day_shift_ind = mobile_survey_cleaned_shift.loc[\n",
    "    mobile_survey_cleaned_shift.timestamp_mindfulness.dt.hour < 5,\n",
    "    :\n",
    "].index\n",
    "\n",
    "mobile_survey_cleaned_shift.loc[day_shift_ind, 'day'] -= pd.to_timedelta(1, unit='d')\n",
    "\n",
    "# Get remaining names and emails where there are multiple entries\n",
    "duplicates = mobile_survey_cleaned_shift.groupby(['email', 'day'])['response'].count()\n",
    "duplicates = duplicates.loc[duplicates > 1, :].reset_index()\n",
    "\n",
    "for ind in duplicates.index:\n",
    "    d = duplicates.loc[ind, 'day']\n",
    "    e = duplicates.loc[ind, 'email']\n",
    "    prev_day = str((d - pd.to_timedelta(1, unit='d')).floor('d')).split(' ')[0]\n",
    "    \n",
    "    if prev_day not in mobile_survey_cleaned_shift.loc[\n",
    "        mobile_survey_cleaned_shift.email == e, 'day'].dt.floor('d').astype(str).values:\n",
    "        ind = mobile_survey_cleaned_shift.loc[\n",
    "            (mobile_survey_cleaned_shift.email == e) & (mobile_survey_cleaned_shift.day == d), :\n",
    "        ].index[0]\n",
    "        mobile_survey_cleaned_shift.loc[ind, 'day'] -= pd.to_timedelta(1, unit='d')\n",
    "\n",
    "mobile_survey_cleaned_shift = mobile_survey_cleaned_shift[\n",
    "    ['email', 'response', 'day']\n",
    "].drop_duplicates().reset_index(drop=True)"
   ]
  },
  {
   "cell_type": "markdown",
   "metadata": {},
   "source": [
    "Push notification survey file"
   ]
  },
  {
   "cell_type": "code",
   "execution_count": 284,
   "metadata": {},
   "outputs": [],
   "source": [
    "daily_survey_filt_shift = daily_survey_filt.loc[daily_survey_filt[' push_notification'] == 1, :]\n",
    "daily_survey_filt_shift.rename(columns={' push_notification': 'push_notification'}, inplace=True)\n",
    "\n",
    "day_shift_ind = daily_survey_filt_shift.loc[\n",
    "    daily_survey_filt_shift.timestamp.dt.hour < 5,\n",
    "    :\n",
    "].index\n",
    "\n",
    "daily_survey_filt_shift.loc[day_shift_ind, 'day'] -= pd.to_timedelta(1, unit='d')\n",
    "\n",
    "daily_survey_filt_shift = daily_survey_filt_shift[[\n",
    "    'email',\n",
    "    'push_notification',\n",
    "    'day'\n",
    "]].drop_duplicates().reset_index(drop=True)"
   ]
  },
  {
   "cell_type": "markdown",
   "metadata": {},
   "source": [
    "PAM"
   ]
  },
  {
   "cell_type": "code",
   "execution_count": 285,
   "metadata": {
    "scrolled": true
   },
   "outputs": [],
   "source": [
    "# Do day shifts\n",
    "pam_shift = pam.loc[pam.email != 'fnokeke@gmail.com', :].sort_values(by='timestamp').reset_index(drop=True)\n",
    "day_shift_ind = pam_shift.loc[\n",
    "    pam_shift.timestamp.dt.hour < 5,\n",
    "    :\n",
    "].index\n",
    "\n",
    "pam_shift.loc[day_shift_ind, 'day'] -= pd.to_timedelta(1, unit='d')\n",
    "\n",
    "# Get remaining names and emails where there are multiple entries\n",
    "duplicates = pam_shift.groupby(['email', 'day'])['negative_affect'].count()\n",
    "duplicates = duplicates.loc[duplicates > 1, :].reset_index()\n",
    "\n",
    "for ind in duplicates.index:\n",
    "    d = duplicates.loc[ind, 'day']\n",
    "    prev_day = str((d - pd.to_timedelta(1, unit='d')).floor('d')).split(' ')[0]\n",
    "    e = duplicates.loc[ind, 'email']\n",
    "    if prev_day not in pam_shift.loc[pam_shift.email == e, 'day'].dt.floor('d').astype(str).values:\n",
    "        ind = pam_shift.loc[\n",
    "            (pam_shift.email == e) & (pam_shift.day == d), :\n",
    "        ].index[0]\n",
    "        pam_shift.loc[ind, 'day'] -= pd.to_timedelta(1, unit='d')\n",
    "\n",
    "# Group\n",
    "pam_shift = pam_shift[\n",
    "    ['email', 'day', 'positive_affect', 'negative_affect']\n",
    "].drop_duplicates().reset_index(drop=True)\n",
    "pam_shift = pam_shift.groupby(['email', 'day'], as_index=False)[['positive_affect', 'negative_affect']].mean()"
   ]
  },
  {
   "cell_type": "code",
   "execution_count": 211,
   "metadata": {},
   "outputs": [
    {
     "data": {
      "text/plain": [
       "array(['ysmncs@gmail.com', 'samcarlin@gmail.com', 'paulski13@gmail.com',\n",
       "       'ohioleslie@gmail.com', 'jessica.riviere@gmail.com',\n",
       "       'jay.springfield@gmail.com', 'hjdeering@gmail.com',\n",
       "       'grli7272@gmail.com', 'fnokeke@gmail.com', 'fno2@cornell.edu',\n",
       "       'arhufnagle@gmail.com'], dtype=object)"
      ]
     },
     "execution_count": 211,
     "metadata": {},
     "output_type": "execute_result"
    }
   ],
   "source": [
    "pam.email.unique()"
   ]
  },
  {
   "cell_type": "markdown",
   "metadata": {},
   "source": [
    "### Merge data together"
   ]
  },
  {
   "cell_type": "code",
   "execution_count": 289,
   "metadata": {},
   "outputs": [
    {
     "name": "stdout",
     "output_type": "stream",
     "text": [
      "(203, 3)\n",
      "(203, 7)\n"
     ]
    }
   ],
   "source": [
    "notif_w_mindfulness_resp = pd.merge(\n",
    "    left=mobile_survey_cleaned_shift[['email', 'response', 'day']],\n",
    "    right=daily_survey_filt_shift[[\n",
    "        'email',\n",
    "        'push_notification',\n",
    "        'day'\n",
    "    ]],\n",
    "    on=['day', 'email'],\n",
    "    how='left'\n",
    ").drop_duplicates()\n",
    "\n",
    "notif_w_mindfulness_resp = pd.merge(\n",
    "    left=notif_w_mindfulness_resp,\n",
    "    right=app_logs_day[[\n",
    "        'email',\n",
    "        'day',\n",
    "        'time_seconds'\n",
    "    ]],\n",
    "    on=['day', 'email'],\n",
    "    how='left'\n",
    ").drop_duplicates()\n",
    "\n",
    "notif_w_mindfulness_resp = pd.merge(\n",
    "    left=notif_w_mindfulness_resp,\n",
    "    right=pam_shift[[\n",
    "        'email',\n",
    "        'day',\n",
    "        'positive_affect',\n",
    "        'negative_affect'\n",
    "    ]],\n",
    "    on=['day', 'email'],\n",
    "    how='left'\n",
    ").drop_duplicates()"
   ]
  },
  {
   "cell_type": "code",
   "execution_count": 290,
   "metadata": {},
   "outputs": [
    {
     "data": {
      "text/plain": [
       "email                  0\n",
       "response               0\n",
       "day                    0\n",
       "push_notification    131\n",
       "time_seconds         136\n",
       "positive_affect       10\n",
       "negative_affect       10\n",
       "dtype: int64"
      ]
     },
     "execution_count": 290,
     "metadata": {},
     "output_type": "execute_result"
    }
   ],
   "source": [
    "pd.isnull(notif_w_mindfulness_resp).sum()"
   ]
  },
  {
   "cell_type": "markdown",
   "metadata": {},
   "source": [
    "Fill on days when push notification did not occur. Also fill when there was no time spent in app. Lastly, drop rows without PAM."
   ]
  },
  {
   "cell_type": "code",
   "execution_count": 291,
   "metadata": {},
   "outputs": [],
   "source": [
    "notif_w_mindfulness_resp['push_notification'].fillna(0, inplace=True)\n",
    "notif_w_mindfulness_resp['time_seconds'].fillna(0, inplace=True)\n",
    "\n",
    "notif_w_mindfulness_resp = notif_w_mindfulness_resp.loc[\n",
    "    ~pd.isnull(notif_w_mindfulness_resp.negative_affect), :].reset_index(drop=True)"
   ]
  },
  {
   "cell_type": "markdown",
   "metadata": {},
   "source": [
    "Count, for now, all responses as just yes/no"
   ]
  },
  {
   "cell_type": "code",
   "execution_count": 338,
   "metadata": {},
   "outputs": [],
   "source": [
    "response_map = {\n",
    "    'yes-with-app': 1, \n",
    "    'no': 0, \n",
    "    'yes-on-my-own': 0\n",
    "}\n",
    "\n",
    "notif_w_mindfulness_resp['outcome_with_app'] = notif_w_mindfulness_resp.response.map(response_map)\n",
    "\n",
    "response_map = {\n",
    "    'yes-with-app': 1, \n",
    "    'no': 0, \n",
    "    'yes-on-my-own': 1\n",
    "}\n",
    "\n",
    "notif_w_mindfulness_resp['outcome_any_mindfulness'] = notif_w_mindfulness_resp.response.map(response_map)\n",
    "\n",
    "\n",
    "response_map = {\n",
    "    'yes-with-app': 0, \n",
    "    'no': 0, \n",
    "    'yes-on-my-own': 1\n",
    "}\n",
    "\n",
    "notif_w_mindfulness_resp['outcome_on_my_own'] = notif_w_mindfulness_resp.response.map(response_map)"
   ]
  },
  {
   "cell_type": "markdown",
   "metadata": {},
   "source": [
    "Now put value to see whether mindfulness was done on previous day"
   ]
  },
  {
   "cell_type": "code",
   "execution_count": 100,
   "metadata": {},
   "outputs": [],
   "source": [
    "import datetime"
   ]
  },
  {
   "cell_type": "code",
   "execution_count": 340,
   "metadata": {},
   "outputs": [],
   "source": [
    "notif_w_mindfulness_resp['prev_day_with_app'] = None\n",
    "notif_w_mindfulness_resp['prev_day_any_mindfulness'] = None\n",
    "notif_w_mindfulness_resp['prev_day_on_my_own'] = None\n",
    "notif_w_mindfulness_resp['prev_day_negative_affect'] = None\n",
    "notif_w_mindfulness_resp['prev_day_negative_affect'] = None\n",
    "notif_w_mindfulness_resp['prev_day_positive_affect'] = None\n",
    "notif_w_mindfulness_resp['next_day_time_seconds'] = 0\n",
    "notif_w_mindfulness_resp = \\\n",
    "    notif_w_mindfulness_resp.sort_values(['email', 'day']).reset_index(drop=True)\n",
    "\n",
    "for e in notif_w_mindfulness_resp.email.unique():\n",
    "    # Filter\n",
    "    ind = notif_w_mindfulness_resp.loc[notif_w_mindfulness_resp.email == e, :].index\n",
    "    days = notif_w_mindfulness_resp.loc[ind, 'day'].unique()\n",
    "    # For each day\n",
    "    for d in days[1:]:\n",
    "        # Get prev_day\n",
    "        prev_day = d - (24*3600*int(1e9))\n",
    "        # Get next day\n",
    "        next_day = d + (24*3600*int(1e9))\n",
    "        # Check if day exists in df\n",
    "        if prev_day in days: \n",
    "            # Get mood values\n",
    "            prev_day_negative = notif_w_mindfulness_resp.loc[\n",
    "                (notif_w_mindfulness_resp.day == prev_day) &\n",
    "                (notif_w_mindfulness_resp.email == e), 'negative_affect'\n",
    "            ].values\n",
    "            prev_day_positive = notif_w_mindfulness_resp.loc[\n",
    "                (notif_w_mindfulness_resp.day == prev_day) &\n",
    "                (notif_w_mindfulness_resp.email == e), 'positive_affect'\n",
    "            ].values\n",
    "            notif_w_mindfulness_resp.loc[\n",
    "                (notif_w_mindfulness_resp.day == d) &\n",
    "                (notif_w_mindfulness_resp.email == e), 'prev_day_negative_affect'\n",
    "            ] = prev_day_negative\n",
    "            notif_w_mindfulness_resp.loc[\n",
    "                (notif_w_mindfulness_resp.day == d) &\n",
    "                (notif_w_mindfulness_resp.email == e), 'prev_day_positive_affect'\n",
    "            ] = prev_day_positive\n",
    "            # Check outcome with app \n",
    "            outcome = notif_w_mindfulness_resp.loc[\n",
    "                (notif_w_mindfulness_resp.day == prev_day) &\n",
    "                (notif_w_mindfulness_resp.email == e), 'outcome_with_app'\n",
    "            ].values\n",
    "            # Check if 1 is an outcome (some mindfulness was done)\n",
    "            if 1 in outcome:\n",
    "                # Set prev day outcome\n",
    "                notif_w_mindfulness_resp.loc[\n",
    "                    (notif_w_mindfulness_resp.day == d) &\n",
    "                    (notif_w_mindfulness_resp.email == e), 'prev_day_with_app'\n",
    "                ] = 1\n",
    "            else:\n",
    "                # Set prev day outcome\n",
    "                notif_w_mindfulness_resp.loc[\n",
    "                    (notif_w_mindfulness_resp.day == d) &\n",
    "                    (notif_w_mindfulness_resp.email == e), 'prev_day_with_app'\n",
    "                ] = 0\n",
    "            # Check outcome with any mindfulness \n",
    "            outcome = notif_w_mindfulness_resp.loc[\n",
    "                (notif_w_mindfulness_resp.day == prev_day) &\n",
    "                (notif_w_mindfulness_resp.email == e), 'outcome_any_mindfulness'\n",
    "            ].values\n",
    "            # Check if 1 is an outcome (some mindfulness was done)\n",
    "            if 1 in outcome:\n",
    "                # Set prev day outcome\n",
    "                notif_w_mindfulness_resp.loc[\n",
    "                    (notif_w_mindfulness_resp.day == d) &\n",
    "                    (notif_w_mindfulness_resp.email == e), 'prev_day_any_mindfulness'\n",
    "                ] = 1\n",
    "            else:\n",
    "                # Set prev day outcome\n",
    "                notif_w_mindfulness_resp.loc[\n",
    "                    (notif_w_mindfulness_resp.day == d) &\n",
    "                    (notif_w_mindfulness_resp.email == e), 'prev_day_any_mindfulness'\n",
    "                ] = 0\n",
    "            # Check outcome with any mindfulness \n",
    "            outcome = notif_w_mindfulness_resp.loc[\n",
    "                (notif_w_mindfulness_resp.day == prev_day) &\n",
    "                (notif_w_mindfulness_resp.email == e), 'outcome_on_my_own'\n",
    "            ].values\n",
    "            # Check if 1 is an outcome (some mindfulness was done)\n",
    "            if 1 in outcome:\n",
    "                # Set prev day outcome\n",
    "                notif_w_mindfulness_resp.loc[\n",
    "                    (notif_w_mindfulness_resp.day == d) &\n",
    "                    (notif_w_mindfulness_resp.email == e), 'prev_day_on_my_own'\n",
    "                ] = 1\n",
    "            else:\n",
    "                # Set prev day outcome\n",
    "                notif_w_mindfulness_resp.loc[\n",
    "                    (notif_w_mindfulness_resp.day == d) &\n",
    "                    (notif_w_mindfulness_resp.email == e), 'prev_day_on_my_own'\n",
    "                ] = 0\n",
    "        if next_day in days:\n",
    "            outcome = notif_w_mindfulness_resp.loc[\n",
    "                (notif_w_mindfulness_resp.day == next_day) &\n",
    "                (notif_w_mindfulness_resp.email == e), 'time_seconds'\n",
    "            ].values[0]\n",
    "            notif_w_mindfulness_resp.loc[\n",
    "                (notif_w_mindfulness_resp.day == d) &\n",
    "                (notif_w_mindfulness_resp.email == e), 'next_day_time_seconds'\n",
    "            ] = outcome"
   ]
  },
  {
   "cell_type": "markdown",
   "metadata": {},
   "source": [
    "Intercept"
   ]
  },
  {
   "cell_type": "markdown",
   "metadata": {},
   "source": [
    "Final cleaning, to make it daily"
   ]
  },
  {
   "cell_type": "code",
   "execution_count": 354,
   "metadata": {},
   "outputs": [],
   "source": [
    "features = [f for f in notif_w_mindfulness_resp.columns if 'timestamp' not in f]\n",
    "regression_data = notif_w_mindfulness_resp[features].drop_duplicates()\n",
    "\n",
    "groups = dict(zip(regression_data.email.unique(), range(len(regression_data.email.unique()))))\n",
    "regression_data['groups'] = [groups[g] for g in regression_data.email]"
   ]
  },
  {
   "cell_type": "markdown",
   "metadata": {},
   "source": [
    "### Auxillary functions"
   ]
  },
  {
   "cell_type": "code",
   "execution_count": 348,
   "metadata": {},
   "outputs": [],
   "source": [
    "from statsmodels.genmod.generalized_estimating_equations import GEE"
   ]
  },
  {
   "cell_type": "code",
   "execution_count": 358,
   "metadata": {},
   "outputs": [],
   "source": [
    "def run_model(X, input_var, outcome_var, model_type='logit', groups=None):\n",
    "    X = X[[outcome_var] + [groups] + input_var].dropna().reset_index(drop=True).astype(float)\n",
    "    if model_type == 'logit':\n",
    "        model = Logit(X[outcome_var], X[input_var])\n",
    "        fit_model = model.fit(method='newton')\n",
    "    if model_type == 'gee':\n",
    "        model = GEE(X[outcome_var], X[input_var], groups=X[groups])\n",
    "        fit_model = model.fit()\n",
    "    elif model_type == 'linear':\n",
    "        model = sm.OLS(X[outcome_var], X[input_var])\n",
    "        fit_model = model.fit(method='pinv')\n",
    "    return fit_model.summary()"
   ]
  },
  {
   "cell_type": "markdown",
   "metadata": {},
   "source": [
    "## Hypothesis 1\n",
    "\n",
    "Does receiving a push notification to perform a mindfulness activity affect how likely someone is going to complete a mindfulness activity with the application on the same day they received the notification?\n",
    "\n",
    "* Dependent var: Self-response stating that a mindfulness activity was completed on the same day with the application\n",
    "* Independent var: Push notification to complete a mindfulness activity that occurred prior to the self-reported survey value\n",
    "* Controlled covariate: Whether it was self-reported they used the app on the previous day\n",
    "* Controlled covariate: Whether it was self-reported they completed any mindfulness activity on the previous day"
   ]
  },
  {
   "cell_type": "markdown",
   "metadata": {},
   "source": [
    "Going to add response to be binary for each category (yes with app might increase)"
   ]
  },
  {
   "cell_type": "code",
   "execution_count": 362,
   "metadata": {},
   "outputs": [
    {
     "data": {
      "text/html": [
       "<div>\n",
       "<style scoped>\n",
       "    .dataframe tbody tr th:only-of-type {\n",
       "        vertical-align: middle;\n",
       "    }\n",
       "\n",
       "    .dataframe tbody tr th {\n",
       "        vertical-align: top;\n",
       "    }\n",
       "\n",
       "    .dataframe thead th {\n",
       "        text-align: right;\n",
       "    }\n",
       "</style>\n",
       "<table border=\"1\" class=\"dataframe\">\n",
       "  <thead>\n",
       "    <tr style=\"text-align: right;\">\n",
       "      <th></th>\n",
       "      <th>push_notification</th>\n",
       "      <th>intercept</th>\n",
       "      <th>outcome_with_app</th>\n",
       "    </tr>\n",
       "  </thead>\n",
       "  <tbody>\n",
       "    <tr>\n",
       "      <th>push_notification</th>\n",
       "      <td>1.000000</td>\n",
       "      <td>NaN</td>\n",
       "      <td>0.078098</td>\n",
       "    </tr>\n",
       "    <tr>\n",
       "      <th>intercept</th>\n",
       "      <td>NaN</td>\n",
       "      <td>NaN</td>\n",
       "      <td>NaN</td>\n",
       "    </tr>\n",
       "    <tr>\n",
       "      <th>outcome_with_app</th>\n",
       "      <td>0.078098</td>\n",
       "      <td>NaN</td>\n",
       "      <td>1.000000</td>\n",
       "    </tr>\n",
       "  </tbody>\n",
       "</table>\n",
       "</div>"
      ],
      "text/plain": [
       "                   push_notification  intercept  outcome_with_app\n",
       "push_notification           1.000000        NaN          0.078098\n",
       "intercept                        NaN        NaN               NaN\n",
       "outcome_with_app            0.078098        NaN          1.000000"
      ]
     },
     "execution_count": 362,
     "metadata": {},
     "output_type": "execute_result"
    }
   ],
   "source": [
    "regression_data[f_2 + [o]].corr()"
   ]
  },
  {
   "cell_type": "code",
   "execution_count": 359,
   "metadata": {},
   "outputs": [
    {
     "name": "stdout",
     "output_type": "stream",
     "text": [
      "                               GEE Regression Results                              \n",
      "===================================================================================\n",
      "Dep. Variable:            outcome_with_app   No. Observations:                  141\n",
      "Model:                                 GEE   No. clusters:                        8\n",
      "Method:                        Generalized   Min. cluster size:                   5\n",
      "                      Estimating Equations   Max. cluster size:                  25\n",
      "Family:                           Gaussian   Mean cluster size:                17.6\n",
      "Dependence structure:         Independence   Num. iterations:                     2\n",
      "Date:                     Mon, 23 Mar 2020   Scale:                           0.224\n",
      "Covariance type:                    robust   Time:                         14:29:00\n",
      "============================================================================================\n",
      "                               coef    std err          z      P>|z|      [0.025      0.975]\n",
      "--------------------------------------------------------------------------------------------\n",
      "push_notification            0.0353      0.091      0.390      0.696      -0.142       0.213\n",
      "intercept                    0.2964      0.082      3.618      0.000       0.136       0.457\n",
      "prev_day_any_mindfulness     0.0251      0.082      0.305      0.760      -0.136       0.187\n",
      "==============================================================================\n",
      "Skew:                          0.7394   Kurtosis:                      -1.4454\n",
      "Centered skew:                 0.5920   Centered kurtosis:             -0.8915\n",
      "==============================================================================\n"
     ]
    }
   ],
   "source": [
    "f_2 = ['push_notification', 'intercept', 'prev_day_any_mindfulness']\n",
    "groups = 'groups'\n",
    "\n",
    "o = 'outcome_with_app'\n",
    "\n",
    "hypothesis_1_summ_2 = run_model(regression_data, f_2, o, model_type='gee', groups=groups)\n",
    "\n",
    "print(hypothesis_1_summ_2)"
   ]
  },
  {
   "cell_type": "code",
   "execution_count": 347,
   "metadata": {},
   "outputs": [
    {
     "name": "stdout",
     "output_type": "stream",
     "text": [
      "Optimization terminated successfully.\n",
      "         Current function value: 0.598123\n",
      "         Iterations 5\n",
      "Optimization terminated successfully.\n",
      "         Current function value: 0.630624\n",
      "         Iterations 5\n",
      "Optimization terminated successfully.\n",
      "         Current function value: 0.606768\n",
      "         Iterations 5\n",
      "Optimization terminated successfully.\n",
      "         Current function value: 0.607155\n",
      "         Iterations 5\n",
      "Optimization terminated successfully.\n",
      "         Current function value: 0.635858\n",
      "         Iterations 5\n",
      "                           Logit Regression Results                           \n",
      "==============================================================================\n",
      "Dep. Variable:       outcome_with_app   No. Observations:                  141\n",
      "Model:                          Logit   Df Residuals:                      137\n",
      "Method:                           MLE   Df Model:                            3\n",
      "Date:                Mon, 23 Mar 2020   Pseudo R-squ.:                 0.05283\n",
      "Time:                        14:23:08   Log-Likelihood:                -84.335\n",
      "converged:                       True   LL-Null:                       -89.039\n",
      "Covariance Type:            nonrobust   LLR p-value:                   0.02433\n",
      "============================================================================================\n",
      "                               coef    std err          z      P>|z|      [0.025      0.975]\n",
      "--------------------------------------------------------------------------------------------\n",
      "push_notification            0.0091      0.384      0.024      0.981      -0.744       0.763\n",
      "intercept                   -0.7872      0.356     -2.212      0.027      -1.485      -0.090\n",
      "prev_day_with_app            0.7058   1.51e+07   4.68e-08      1.000   -2.95e+07    2.95e+07\n",
      "prev_day_any_mindfulness    -0.0448   1.51e+07  -2.98e-09      1.000   -2.95e+07    2.95e+07\n",
      "prev_day_on_my_own          -0.7506   1.51e+07  -4.98e-08      1.000   -2.95e+07    2.95e+07\n",
      "============================================================================================\n",
      "                           Logit Regression Results                           \n",
      "==============================================================================\n",
      "Dep. Variable:       outcome_with_app   No. Observations:                  141\n",
      "Model:                          Logit   Df Residuals:                      138\n",
      "Method:                           MLE   Df Model:                            2\n",
      "Date:                Mon, 23 Mar 2020   Pseudo R-squ.:                0.001363\n",
      "Time:                        14:23:08   Log-Likelihood:                -88.918\n",
      "converged:                       True   LL-Null:                       -89.039\n",
      "Covariance Type:            nonrobust   LLR p-value:                    0.8857\n",
      "============================================================================================\n",
      "                               coef    std err          z      P>|z|      [0.025      0.975]\n",
      "--------------------------------------------------------------------------------------------\n",
      "push_notification            0.1601      0.371      0.431      0.666      -0.568       0.888\n",
      "intercept                   -0.8625      0.355     -2.426      0.015      -1.559      -0.166\n",
      "prev_day_any_mindfulness     0.1150      0.381      0.302      0.763      -0.631       0.861\n",
      "============================================================================================\n",
      "                           Logit Regression Results                           \n",
      "==============================================================================\n",
      "Dep. Variable:       outcome_with_app   No. Observations:                  141\n",
      "Model:                          Logit   Df Residuals:                      138\n",
      "Method:                           MLE   Df Model:                            2\n",
      "Date:                Mon, 23 Mar 2020   Pseudo R-squ.:                 0.03914\n",
      "Time:                        14:23:08   Log-Likelihood:                -85.554\n",
      "converged:                       True   LL-Null:                       -89.039\n",
      "Covariance Type:            nonrobust   LLR p-value:                   0.03065\n",
      "=====================================================================================\n",
      "                        coef    std err          z      P>|z|      [0.025      0.975]\n",
      "-------------------------------------------------------------------------------------\n",
      "push_notification     0.1224      0.376      0.325      0.745      -0.615       0.860\n",
      "intercept            -1.1461      0.283     -4.050      0.000      -1.701      -0.591\n",
      "prev_day_with_app     0.9734      0.374      2.601      0.009       0.240       1.707\n",
      "=====================================================================================\n",
      "                           Logit Regression Results                           \n",
      "==============================================================================\n",
      "Dep. Variable:       outcome_with_app   No. Observations:                  141\n",
      "Model:                          Logit   Df Residuals:                      138\n",
      "Method:                           MLE   Df Model:                            2\n",
      "Date:                Mon, 23 Mar 2020   Pseudo R-squ.:                 0.03853\n",
      "Time:                        14:23:08   Log-Likelihood:                -85.609\n",
      "converged:                       True   LL-Null:                       -89.039\n",
      "Covariance Type:            nonrobust   LLR p-value:                   0.03237\n",
      "======================================================================================\n",
      "                         coef    std err          z      P>|z|      [0.025      0.975]\n",
      "--------------------------------------------------------------------------------------\n",
      "push_notification     -0.0370      0.380     -0.098      0.922      -0.781       0.707\n",
      "intercept             -0.4307      0.266     -1.617      0.106      -0.953       0.091\n",
      "prev_day_on_my_own    -1.1408      0.470     -2.429      0.015      -2.061      -0.220\n",
      "======================================================================================\n",
      "                           Logit Regression Results                           \n",
      "==============================================================================\n",
      "Dep. Variable:       outcome_with_app   No. Observations:                  193\n",
      "Model:                          Logit   Df Residuals:                      191\n",
      "Method:                           MLE   Df Model:                            1\n",
      "Date:                Mon, 23 Mar 2020   Pseudo R-squ.:                0.004733\n",
      "Time:                        14:23:08   Log-Likelihood:                -122.72\n",
      "converged:                       True   LL-Null:                       -123.30\n",
      "Covariance Type:            nonrobust   LLR p-value:                    0.2800\n",
      "=====================================================================================\n",
      "                        coef    std err          z      P>|z|      [0.025      0.975]\n",
      "-------------------------------------------------------------------------------------\n",
      "push_notification     0.3397      0.314      1.083      0.279      -0.275       0.954\n",
      "intercept            -0.8051      0.195     -4.126      0.000      -1.188      -0.423\n",
      "=====================================================================================\n"
     ]
    }
   ],
   "source": [
    "f_1 = ['push_notification', 'intercept', 'prev_day_with_app', 'prev_day_any_mindfulness', 'prev_day_on_my_own']\n",
    "f_2 = ['push_notification', 'intercept', 'prev_day_any_mindfulness']\n",
    "f_3 = ['push_notification', 'intercept', 'prev_day_with_app']\n",
    "f_4 = ['push_notification', 'intercept', 'prev_day_on_my_own']\n",
    "f_5 = ['push_notification', 'intercept']\n",
    "\n",
    "o = 'outcome_with_app'\n",
    "\n",
    "hypothesis_1_summ_1 = run_model(regression_data, f_1, o)\n",
    "hypothesis_1_summ_2 = run_model(regression_data, f_2, o)\n",
    "hypothesis_1_summ_3 = run_model(regression_data, f_3, o)\n",
    "hypothesis_1_summ_4 = run_model(regression_data, f_4, o)\n",
    "hypothesis_1_summ_5 = run_model(regression_data, f_5, o)\n",
    "\n",
    "print(hypothesis_1_summ_1)\n",
    "print(hypothesis_1_summ_2)\n",
    "print(hypothesis_1_summ_3)\n",
    "print(hypothesis_1_summ_4)\n",
    "print(hypothesis_1_summ_5)"
   ]
  },
  {
   "cell_type": "markdown",
   "metadata": {},
   "source": [
    "## Hypothesis 2\n",
    "\n",
    "Does receiving a push notification to perform a mindfulness activity affect how likely someone is going to complete any mindfulness activity on the same day they received the notification?\n",
    "\n",
    "* Dependent var: Self-response stating that any mindfulness activity was completed on the same day \n",
    "* Independent var: Push notification to complete a mindfulness activity that occurred prior to the self-reported survey value\n",
    "* Controlled covariate: Whether it was self-reported they used the app on the previous day\n",
    "* Controlled covariate: Whether it was self-reported they completed any mindfulness activity on the previous day"
   ]
  },
  {
   "cell_type": "code",
   "execution_count": 337,
   "metadata": {},
   "outputs": [
    {
     "name": "stdout",
     "output_type": "stream",
     "text": [
      "Optimization terminated successfully.\n",
      "         Current function value: 0.586088\n",
      "         Iterations 6\n",
      "Optimization terminated successfully.\n",
      "         Current function value: 0.613803\n",
      "         Iterations 5\n",
      "Optimization terminated successfully.\n",
      "         Current function value: 0.647963\n",
      "         Iterations 5\n",
      "Optimization terminated successfully.\n",
      "         Current function value: 0.637432\n",
      "         Iterations 5\n",
      "                              Logit Regression Results                             \n",
      "===================================================================================\n",
      "Dep. Variable:     outcome_any_mindfulness   No. Observations:                  141\n",
      "Model:                               Logit   Df Residuals:                      137\n",
      "Method:                                MLE   Df Model:                            3\n",
      "Date:                     Mon, 23 Mar 2020   Pseudo R-squ.:                  0.1097\n",
      "Time:                             14:02:29   Log-Likelihood:                -82.638\n",
      "converged:                            True   LL-Null:                       -92.822\n",
      "Covariance Type:                 nonrobust   LLR p-value:                 0.0001425\n",
      "============================================================================================\n",
      "                               coef    std err          z      P>|z|      [0.025      0.975]\n",
      "--------------------------------------------------------------------------------------------\n",
      "push_notification           -0.3368      0.382     -0.882      0.378      -1.085       0.411\n",
      "intercept                   -0.0330      0.337     -0.098      0.922      -0.694       0.628\n",
      "prev_day_with_app           -1.4671      0.563     -2.604      0.009      -2.571      -0.363\n",
      "prev_day_any_mindfulness     2.0973      0.560      3.747      0.000       1.000       3.194\n",
      "============================================================================================\n",
      "                              Logit Regression Results                             \n",
      "===================================================================================\n",
      "Dep. Variable:     outcome_any_mindfulness   No. Observations:                  141\n",
      "Model:                               Logit   Df Residuals:                      138\n",
      "Method:                                MLE   Df Model:                            2\n",
      "Date:                     Mon, 23 Mar 2020   Pseudo R-squ.:                 0.06761\n",
      "Time:                             14:02:29   Log-Likelihood:                -86.546\n",
      "converged:                            True   LL-Null:                       -92.822\n",
      "Covariance Type:                 nonrobust   LLR p-value:                  0.001882\n",
      "============================================================================================\n",
      "                               coef    std err          z      P>|z|      [0.025      0.975]\n",
      "--------------------------------------------------------------------------------------------\n",
      "push_notification           -0.4572      0.372     -1.228      0.219      -1.187       0.272\n",
      "intercept                    0.0248      0.335      0.074      0.941      -0.631       0.681\n",
      "prev_day_any_mindfulness     1.1498      0.373      3.085      0.002       0.419       1.880\n",
      "============================================================================================\n",
      "                              Logit Regression Results                             \n",
      "===================================================================================\n",
      "Dep. Variable:     outcome_any_mindfulness   No. Observations:                  141\n",
      "Model:                               Logit   Df Residuals:                      138\n",
      "Method:                                MLE   Df Model:                            2\n",
      "Date:                     Mon, 23 Mar 2020   Pseudo R-squ.:                 0.01572\n",
      "Time:                             14:02:29   Log-Likelihood:                -91.363\n",
      "converged:                            True   LL-Null:                       -92.822\n",
      "Covariance Type:                 nonrobust   LLR p-value:                    0.2325\n",
      "=====================================================================================\n",
      "                        coef    std err          z      P>|z|      [0.025      0.975]\n",
      "-------------------------------------------------------------------------------------\n",
      "push_notification    -0.5969      0.357     -1.672      0.095      -1.297       0.103\n",
      "intercept             0.8192      0.265      3.089      0.002       0.299       1.339\n",
      "prev_day_with_app    -0.1098      0.369     -0.298      0.766      -0.833       0.613\n",
      "=====================================================================================\n",
      "                              Logit Regression Results                             \n",
      "===================================================================================\n",
      "Dep. Variable:     outcome_any_mindfulness   No. Observations:                  193\n",
      "Model:                               Logit   Df Residuals:                      191\n",
      "Method:                                MLE   Df Model:                            1\n",
      "Date:                     Mon, 23 Mar 2020   Pseudo R-squ.:                 0.01275\n",
      "Time:                             14:02:29   Log-Likelihood:                -123.02\n",
      "converged:                            True   LL-Null:                       -124.61\n",
      "Covariance Type:                 nonrobust   LLR p-value:                   0.07465\n",
      "=====================================================================================\n",
      "                        coef    std err          z      P>|z|      [0.025      0.975]\n",
      "-------------------------------------------------------------------------------------\n",
      "push_notification    -0.5557      0.311     -1.785      0.074      -1.166       0.055\n",
      "intercept             0.8434      0.197      4.290      0.000       0.458       1.229\n",
      "=====================================================================================\n"
     ]
    }
   ],
   "source": [
    "f_1 = ['push_notification', 'intercept', 'prev_day_with_app', 'prev_day_any_mindfulness']\n",
    "f_2 = ['push_notification', 'intercept', 'prev_day_any_mindfulness']\n",
    "f_3 = ['push_notification', 'intercept', 'prev_day_with_app']\n",
    "f_4 = ['push_notification', 'intercept']\n",
    "\n",
    "o = 'outcome_any_mindfulness'\n",
    "\n",
    "hypothesis_2_summ_1 = run_model(regression_data, f_1, o)\n",
    "hypothesis_2_summ_2 = run_model(regression_data, f_2, o)\n",
    "hypothesis_2_summ_3 = run_model(regression_data, f_3, o)\n",
    "hypothesis_2_summ_4 = run_model(regression_data, f_4, o)\n",
    "\n",
    "print(hypothesis_2_summ_1)\n",
    "print(hypothesis_2_summ_2)\n",
    "print(hypothesis_2_summ_3)\n",
    "print(hypothesis_2_summ_4)"
   ]
  },
  {
   "cell_type": "markdown",
   "metadata": {},
   "source": [
    "## Hypothesis 3: \n",
    "\n",
    "Does receiving a push notification to perform a mindfulness activity change the time spent on the headspace app within the same day?\n",
    "\n",
    "* Dependent var: Time spent on headspace app the same day as the notification\n",
    "* Independent var: Push notification to complete a mindfulness activity that occurred prior to the self-reported survey value\n",
    "* Controlled covariate: Whether they used headspace the previous day:\n",
    "* Controlled covariate: Whether they completed any mindfulness on the previous day?"
   ]
  },
  {
   "cell_type": "code",
   "execution_count": 303,
   "metadata": {},
   "outputs": [
    {
     "data": {
      "text/html": [
       "<table class=\"simpletable\">\n",
       "<caption>OLS Regression Results</caption>\n",
       "<tr>\n",
       "  <th>Dep. Variable:</th>      <td>time_seconds</td>   <th>  R-squared:         </th> <td>   0.006</td>\n",
       "</tr>\n",
       "<tr>\n",
       "  <th>Model:</th>                   <td>OLS</td>       <th>  Adj. R-squared:    </th> <td>   0.000</td>\n",
       "</tr>\n",
       "<tr>\n",
       "  <th>Method:</th>             <td>Least Squares</td>  <th>  F-statistic:       </th> <td>   1.057</td>\n",
       "</tr>\n",
       "<tr>\n",
       "  <th>Date:</th>             <td>Mon, 23 Mar 2020</td> <th>  Prob (F-statistic):</th>  <td> 0.305</td> \n",
       "</tr>\n",
       "<tr>\n",
       "  <th>Time:</th>                 <td>13:43:17</td>     <th>  Log-Likelihood:    </th> <td> -1573.4</td>\n",
       "</tr>\n",
       "<tr>\n",
       "  <th>No. Observations:</th>      <td>   193</td>      <th>  AIC:               </th> <td>   3151.</td>\n",
       "</tr>\n",
       "<tr>\n",
       "  <th>Df Residuals:</th>          <td>   191</td>      <th>  BIC:               </th> <td>   3157.</td>\n",
       "</tr>\n",
       "<tr>\n",
       "  <th>Df Model:</th>              <td>     1</td>      <th>                     </th>     <td> </td>   \n",
       "</tr>\n",
       "<tr>\n",
       "  <th>Covariance Type:</th>      <td>nonrobust</td>    <th>                     </th>     <td> </td>   \n",
       "</tr>\n",
       "</table>\n",
       "<table class=\"simpletable\">\n",
       "<tr>\n",
       "          <td></td>             <th>coef</th>     <th>std err</th>      <th>t</th>      <th>P>|t|</th>  <th>[0.025</th>    <th>0.975]</th>  \n",
       "</tr>\n",
       "<tr>\n",
       "  <th>push_notification</th> <td> -129.9768</td> <td>  126.404</td> <td>   -1.028</td> <td> 0.305</td> <td> -379.304</td> <td>  119.350</td>\n",
       "</tr>\n",
       "<tr>\n",
       "  <th>intercept</th>         <td>  230.6911</td> <td>   76.126</td> <td>    3.030</td> <td> 0.003</td> <td>   80.536</td> <td>  380.846</td>\n",
       "</tr>\n",
       "</table>\n",
       "<table class=\"simpletable\">\n",
       "<tr>\n",
       "  <th>Omnibus:</th>       <td>330.145</td> <th>  Durbin-Watson:     </th> <td>   1.357</td> \n",
       "</tr>\n",
       "<tr>\n",
       "  <th>Prob(Omnibus):</th> <td> 0.000</td>  <th>  Jarque-Bera (JB):  </th> <td>58136.254</td>\n",
       "</tr>\n",
       "<tr>\n",
       "  <th>Skew:</th>          <td> 8.498</td>  <th>  Prob(JB):          </th> <td>    0.00</td> \n",
       "</tr>\n",
       "<tr>\n",
       "  <th>Kurtosis:</th>      <td>86.310</td>  <th>  Cond. No.          </th> <td>    2.42</td> \n",
       "</tr>\n",
       "</table><br/><br/>Warnings:<br/>[1] Standard Errors assume that the covariance matrix of the errors is correctly specified."
      ],
      "text/plain": [
       "<class 'statsmodels.iolib.summary.Summary'>\n",
       "\"\"\"\n",
       "                            OLS Regression Results                            \n",
       "==============================================================================\n",
       "Dep. Variable:           time_seconds   R-squared:                       0.006\n",
       "Model:                            OLS   Adj. R-squared:                  0.000\n",
       "Method:                 Least Squares   F-statistic:                     1.057\n",
       "Date:                Mon, 23 Mar 2020   Prob (F-statistic):              0.305\n",
       "Time:                        13:43:17   Log-Likelihood:                -1573.4\n",
       "No. Observations:                 193   AIC:                             3151.\n",
       "Df Residuals:                     191   BIC:                             3157.\n",
       "Df Model:                           1                                         \n",
       "Covariance Type:            nonrobust                                         \n",
       "=====================================================================================\n",
       "                        coef    std err          t      P>|t|      [0.025      0.975]\n",
       "-------------------------------------------------------------------------------------\n",
       "push_notification  -129.9768    126.404     -1.028      0.305    -379.304     119.350\n",
       "intercept           230.6911     76.126      3.030      0.003      80.536     380.846\n",
       "==============================================================================\n",
       "Omnibus:                      330.145   Durbin-Watson:                   1.357\n",
       "Prob(Omnibus):                  0.000   Jarque-Bera (JB):            58136.254\n",
       "Skew:                           8.498   Prob(JB):                         0.00\n",
       "Kurtosis:                      86.310   Cond. No.                         2.42\n",
       "==============================================================================\n",
       "\n",
       "Warnings:\n",
       "[1] Standard Errors assume that the covariance matrix of the errors is correctly specified.\n",
       "\"\"\""
      ]
     },
     "execution_count": 303,
     "metadata": {},
     "output_type": "execute_result"
    }
   ],
   "source": [
    "f = ['push_notification', 'intercept'] #, 'prev_day_with_app', 'prev_day_any_mindfulness']\n",
    "o = 'time_seconds'\n",
    "\n",
    "hypothesis_3_summ = run_model(regression_data, f, o, model_type='linear')\n",
    "\n",
    "hypothesis_3_summ"
   ]
  },
  {
   "cell_type": "markdown",
   "metadata": {},
   "source": [
    "## Hypothesis 4\n",
    "\n",
    "Does receiving a push notification to perform a mindfulness activity change the time spent on the headspace app within the next day?\n",
    "\n",
    "* Dependent var: Time spent on headspace app the next day\n",
    "* Independent var: Push notification to complete a mindfulness activity that occurred prior to the self-reported survey value\n",
    "* Controlled covariate: Whether they used headspace the previous day:\n",
    "* Controlled covariate: Whether they completed any mindfulness on the previous day?"
   ]
  },
  {
   "cell_type": "code",
   "execution_count": 304,
   "metadata": {},
   "outputs": [
    {
     "ename": "ValueError",
     "evalue": "Pandas data cast to numpy dtype of object. Check input data with np.asarray(data).",
     "output_type": "error",
     "traceback": [
      "\u001b[0;31m---------------------------------------------------------------------------\u001b[0m",
      "\u001b[0;31mValueError\u001b[0m                                Traceback (most recent call last)",
      "\u001b[0;32m<ipython-input-304-704ad7ee78eb>\u001b[0m in \u001b[0;36m<module>\u001b[0;34m\u001b[0m\n\u001b[1;32m      2\u001b[0m \u001b[0mo\u001b[0m \u001b[0;34m=\u001b[0m \u001b[0;34m'next_day_time_seconds'\u001b[0m\u001b[0;34m\u001b[0m\u001b[0;34m\u001b[0m\u001b[0m\n\u001b[1;32m      3\u001b[0m \u001b[0;34m\u001b[0m\u001b[0m\n\u001b[0;32m----> 4\u001b[0;31m \u001b[0mhypothesis_4_summ\u001b[0m \u001b[0;34m=\u001b[0m \u001b[0mrun_model\u001b[0m\u001b[0;34m(\u001b[0m\u001b[0mregression_data\u001b[0m\u001b[0;34m,\u001b[0m \u001b[0mf\u001b[0m\u001b[0;34m,\u001b[0m \u001b[0mo\u001b[0m\u001b[0;34m,\u001b[0m \u001b[0mmodel_type\u001b[0m\u001b[0;34m=\u001b[0m\u001b[0;34m'linear'\u001b[0m\u001b[0;34m)\u001b[0m\u001b[0;34m\u001b[0m\u001b[0;34m\u001b[0m\u001b[0m\n\u001b[0m\u001b[1;32m      5\u001b[0m \u001b[0;34m\u001b[0m\u001b[0m\n\u001b[1;32m      6\u001b[0m \u001b[0mhypothesis_4_summ\u001b[0m\u001b[0;34m\u001b[0m\u001b[0;34m\u001b[0m\u001b[0m\n",
      "\u001b[0;32m<ipython-input-299-6f48d553ebe5>\u001b[0m in \u001b[0;36mrun_model\u001b[0;34m(X, input_var, outcome_var, model_type)\u001b[0m\n\u001b[1;32m      4\u001b[0m         \u001b[0mfit_model\u001b[0m \u001b[0;34m=\u001b[0m \u001b[0mmodel\u001b[0m\u001b[0;34m.\u001b[0m\u001b[0mfit\u001b[0m\u001b[0;34m(\u001b[0m\u001b[0mmethod\u001b[0m\u001b[0;34m=\u001b[0m\u001b[0;34m'newton'\u001b[0m\u001b[0;34m)\u001b[0m\u001b[0;34m\u001b[0m\u001b[0;34m\u001b[0m\u001b[0m\n\u001b[1;32m      5\u001b[0m     \u001b[0;32melif\u001b[0m \u001b[0mmodel_type\u001b[0m \u001b[0;34m==\u001b[0m \u001b[0;34m'linear'\u001b[0m\u001b[0;34m:\u001b[0m\u001b[0;34m\u001b[0m\u001b[0;34m\u001b[0m\u001b[0m\n\u001b[0;32m----> 6\u001b[0;31m         \u001b[0mmodel\u001b[0m \u001b[0;34m=\u001b[0m \u001b[0msm\u001b[0m\u001b[0;34m.\u001b[0m\u001b[0mOLS\u001b[0m\u001b[0;34m(\u001b[0m\u001b[0mX\u001b[0m\u001b[0;34m[\u001b[0m\u001b[0moutcome_var\u001b[0m\u001b[0;34m]\u001b[0m\u001b[0;34m,\u001b[0m \u001b[0mX\u001b[0m\u001b[0;34m[\u001b[0m\u001b[0minput_var\u001b[0m\u001b[0;34m]\u001b[0m\u001b[0;34m)\u001b[0m\u001b[0;34m\u001b[0m\u001b[0;34m\u001b[0m\u001b[0m\n\u001b[0m\u001b[1;32m      7\u001b[0m         \u001b[0mfit_model\u001b[0m \u001b[0;34m=\u001b[0m \u001b[0mmodel\u001b[0m\u001b[0;34m.\u001b[0m\u001b[0mfit\u001b[0m\u001b[0;34m(\u001b[0m\u001b[0mmethod\u001b[0m\u001b[0;34m=\u001b[0m\u001b[0;34m'pinv'\u001b[0m\u001b[0;34m)\u001b[0m\u001b[0;34m\u001b[0m\u001b[0;34m\u001b[0m\u001b[0m\n\u001b[1;32m      8\u001b[0m     \u001b[0;32mreturn\u001b[0m \u001b[0mfit_model\u001b[0m\u001b[0;34m.\u001b[0m\u001b[0msummary\u001b[0m\u001b[0;34m(\u001b[0m\u001b[0;34m)\u001b[0m\u001b[0;34m\u001b[0m\u001b[0;34m\u001b[0m\u001b[0m\n",
      "\u001b[0;32m~/opt/anaconda3/lib/python3.7/site-packages/statsmodels/regression/linear_model.py\u001b[0m in \u001b[0;36m__init__\u001b[0;34m(self, endog, exog, missing, hasconst, **kwargs)\u001b[0m\n\u001b[1;32m    836\u001b[0m                  **kwargs):\n\u001b[1;32m    837\u001b[0m         super(OLS, self).__init__(endog, exog, missing=missing,\n\u001b[0;32m--> 838\u001b[0;31m                                   hasconst=hasconst, **kwargs)\n\u001b[0m\u001b[1;32m    839\u001b[0m         \u001b[0;32mif\u001b[0m \u001b[0;34m\"weights\"\u001b[0m \u001b[0;32min\u001b[0m \u001b[0mself\u001b[0m\u001b[0;34m.\u001b[0m\u001b[0m_init_keys\u001b[0m\u001b[0;34m:\u001b[0m\u001b[0;34m\u001b[0m\u001b[0;34m\u001b[0m\u001b[0m\n\u001b[1;32m    840\u001b[0m             \u001b[0mself\u001b[0m\u001b[0;34m.\u001b[0m\u001b[0m_init_keys\u001b[0m\u001b[0;34m.\u001b[0m\u001b[0mremove\u001b[0m\u001b[0;34m(\u001b[0m\u001b[0;34m\"weights\"\u001b[0m\u001b[0;34m)\u001b[0m\u001b[0;34m\u001b[0m\u001b[0;34m\u001b[0m\u001b[0m\n",
      "\u001b[0;32m~/opt/anaconda3/lib/python3.7/site-packages/statsmodels/regression/linear_model.py\u001b[0m in \u001b[0;36m__init__\u001b[0;34m(self, endog, exog, weights, missing, hasconst, **kwargs)\u001b[0m\n\u001b[1;32m    682\u001b[0m             \u001b[0mweights\u001b[0m \u001b[0;34m=\u001b[0m \u001b[0mweights\u001b[0m\u001b[0;34m.\u001b[0m\u001b[0msqueeze\u001b[0m\u001b[0;34m(\u001b[0m\u001b[0;34m)\u001b[0m\u001b[0;34m\u001b[0m\u001b[0;34m\u001b[0m\u001b[0m\n\u001b[1;32m    683\u001b[0m         super(WLS, self).__init__(endog, exog, missing=missing,\n\u001b[0;32m--> 684\u001b[0;31m                                   weights=weights, hasconst=hasconst, **kwargs)\n\u001b[0m\u001b[1;32m    685\u001b[0m         \u001b[0mnobs\u001b[0m \u001b[0;34m=\u001b[0m \u001b[0mself\u001b[0m\u001b[0;34m.\u001b[0m\u001b[0mexog\u001b[0m\u001b[0;34m.\u001b[0m\u001b[0mshape\u001b[0m\u001b[0;34m[\u001b[0m\u001b[0;36m0\u001b[0m\u001b[0;34m]\u001b[0m\u001b[0;34m\u001b[0m\u001b[0;34m\u001b[0m\u001b[0m\n\u001b[1;32m    686\u001b[0m         \u001b[0mweights\u001b[0m \u001b[0;34m=\u001b[0m \u001b[0mself\u001b[0m\u001b[0;34m.\u001b[0m\u001b[0mweights\u001b[0m\u001b[0;34m\u001b[0m\u001b[0;34m\u001b[0m\u001b[0m\n",
      "\u001b[0;32m~/opt/anaconda3/lib/python3.7/site-packages/statsmodels/regression/linear_model.py\u001b[0m in \u001b[0;36m__init__\u001b[0;34m(self, endog, exog, **kwargs)\u001b[0m\n\u001b[1;32m    194\u001b[0m     \"\"\"\n\u001b[1;32m    195\u001b[0m     \u001b[0;32mdef\u001b[0m \u001b[0m__init__\u001b[0m\u001b[0;34m(\u001b[0m\u001b[0mself\u001b[0m\u001b[0;34m,\u001b[0m \u001b[0mendog\u001b[0m\u001b[0;34m,\u001b[0m \u001b[0mexog\u001b[0m\u001b[0;34m,\u001b[0m \u001b[0;34m**\u001b[0m\u001b[0mkwargs\u001b[0m\u001b[0;34m)\u001b[0m\u001b[0;34m:\u001b[0m\u001b[0;34m\u001b[0m\u001b[0;34m\u001b[0m\u001b[0m\n\u001b[0;32m--> 196\u001b[0;31m         \u001b[0msuper\u001b[0m\u001b[0;34m(\u001b[0m\u001b[0mRegressionModel\u001b[0m\u001b[0;34m,\u001b[0m \u001b[0mself\u001b[0m\u001b[0;34m)\u001b[0m\u001b[0;34m.\u001b[0m\u001b[0m__init__\u001b[0m\u001b[0;34m(\u001b[0m\u001b[0mendog\u001b[0m\u001b[0;34m,\u001b[0m \u001b[0mexog\u001b[0m\u001b[0;34m,\u001b[0m \u001b[0;34m**\u001b[0m\u001b[0mkwargs\u001b[0m\u001b[0;34m)\u001b[0m\u001b[0;34m\u001b[0m\u001b[0;34m\u001b[0m\u001b[0m\n\u001b[0m\u001b[1;32m    197\u001b[0m         \u001b[0mself\u001b[0m\u001b[0;34m.\u001b[0m\u001b[0m_data_attr\u001b[0m\u001b[0;34m.\u001b[0m\u001b[0mextend\u001b[0m\u001b[0;34m(\u001b[0m\u001b[0;34m[\u001b[0m\u001b[0;34m'pinv_wexog'\u001b[0m\u001b[0;34m,\u001b[0m \u001b[0;34m'wendog'\u001b[0m\u001b[0;34m,\u001b[0m \u001b[0;34m'wexog'\u001b[0m\u001b[0;34m,\u001b[0m \u001b[0;34m'weights'\u001b[0m\u001b[0;34m]\u001b[0m\u001b[0;34m)\u001b[0m\u001b[0;34m\u001b[0m\u001b[0;34m\u001b[0m\u001b[0m\n\u001b[1;32m    198\u001b[0m \u001b[0;34m\u001b[0m\u001b[0m\n",
      "\u001b[0;32m~/opt/anaconda3/lib/python3.7/site-packages/statsmodels/base/model.py\u001b[0m in \u001b[0;36m__init__\u001b[0;34m(self, endog, exog, **kwargs)\u001b[0m\n\u001b[1;32m    214\u001b[0m \u001b[0;34m\u001b[0m\u001b[0m\n\u001b[1;32m    215\u001b[0m     \u001b[0;32mdef\u001b[0m \u001b[0m__init__\u001b[0m\u001b[0;34m(\u001b[0m\u001b[0mself\u001b[0m\u001b[0;34m,\u001b[0m \u001b[0mendog\u001b[0m\u001b[0;34m,\u001b[0m \u001b[0mexog\u001b[0m\u001b[0;34m=\u001b[0m\u001b[0;32mNone\u001b[0m\u001b[0;34m,\u001b[0m \u001b[0;34m**\u001b[0m\u001b[0mkwargs\u001b[0m\u001b[0;34m)\u001b[0m\u001b[0;34m:\u001b[0m\u001b[0;34m\u001b[0m\u001b[0;34m\u001b[0m\u001b[0m\n\u001b[0;32m--> 216\u001b[0;31m         \u001b[0msuper\u001b[0m\u001b[0;34m(\u001b[0m\u001b[0mLikelihoodModel\u001b[0m\u001b[0;34m,\u001b[0m \u001b[0mself\u001b[0m\u001b[0;34m)\u001b[0m\u001b[0;34m.\u001b[0m\u001b[0m__init__\u001b[0m\u001b[0;34m(\u001b[0m\u001b[0mendog\u001b[0m\u001b[0;34m,\u001b[0m \u001b[0mexog\u001b[0m\u001b[0;34m,\u001b[0m \u001b[0;34m**\u001b[0m\u001b[0mkwargs\u001b[0m\u001b[0;34m)\u001b[0m\u001b[0;34m\u001b[0m\u001b[0;34m\u001b[0m\u001b[0m\n\u001b[0m\u001b[1;32m    217\u001b[0m         \u001b[0mself\u001b[0m\u001b[0;34m.\u001b[0m\u001b[0minitialize\u001b[0m\u001b[0;34m(\u001b[0m\u001b[0;34m)\u001b[0m\u001b[0;34m\u001b[0m\u001b[0;34m\u001b[0m\u001b[0m\n\u001b[1;32m    218\u001b[0m \u001b[0;34m\u001b[0m\u001b[0m\n",
      "\u001b[0;32m~/opt/anaconda3/lib/python3.7/site-packages/statsmodels/base/model.py\u001b[0m in \u001b[0;36m__init__\u001b[0;34m(self, endog, exog, **kwargs)\u001b[0m\n\u001b[1;32m     66\u001b[0m         \u001b[0mhasconst\u001b[0m \u001b[0;34m=\u001b[0m \u001b[0mkwargs\u001b[0m\u001b[0;34m.\u001b[0m\u001b[0mpop\u001b[0m\u001b[0;34m(\u001b[0m\u001b[0;34m'hasconst'\u001b[0m\u001b[0;34m,\u001b[0m \u001b[0;32mNone\u001b[0m\u001b[0;34m)\u001b[0m\u001b[0;34m\u001b[0m\u001b[0;34m\u001b[0m\u001b[0m\n\u001b[1;32m     67\u001b[0m         self.data = self._handle_data(endog, exog, missing, hasconst,\n\u001b[0;32m---> 68\u001b[0;31m                                       **kwargs)\n\u001b[0m\u001b[1;32m     69\u001b[0m         \u001b[0mself\u001b[0m\u001b[0;34m.\u001b[0m\u001b[0mk_constant\u001b[0m \u001b[0;34m=\u001b[0m \u001b[0mself\u001b[0m\u001b[0;34m.\u001b[0m\u001b[0mdata\u001b[0m\u001b[0;34m.\u001b[0m\u001b[0mk_constant\u001b[0m\u001b[0;34m\u001b[0m\u001b[0;34m\u001b[0m\u001b[0m\n\u001b[1;32m     70\u001b[0m         \u001b[0mself\u001b[0m\u001b[0;34m.\u001b[0m\u001b[0mexog\u001b[0m \u001b[0;34m=\u001b[0m \u001b[0mself\u001b[0m\u001b[0;34m.\u001b[0m\u001b[0mdata\u001b[0m\u001b[0;34m.\u001b[0m\u001b[0mexog\u001b[0m\u001b[0;34m\u001b[0m\u001b[0;34m\u001b[0m\u001b[0m\n",
      "\u001b[0;32m~/opt/anaconda3/lib/python3.7/site-packages/statsmodels/base/model.py\u001b[0m in \u001b[0;36m_handle_data\u001b[0;34m(self, endog, exog, missing, hasconst, **kwargs)\u001b[0m\n\u001b[1;32m     89\u001b[0m \u001b[0;34m\u001b[0m\u001b[0m\n\u001b[1;32m     90\u001b[0m     \u001b[0;32mdef\u001b[0m \u001b[0m_handle_data\u001b[0m\u001b[0;34m(\u001b[0m\u001b[0mself\u001b[0m\u001b[0;34m,\u001b[0m \u001b[0mendog\u001b[0m\u001b[0;34m,\u001b[0m \u001b[0mexog\u001b[0m\u001b[0;34m,\u001b[0m \u001b[0mmissing\u001b[0m\u001b[0;34m,\u001b[0m \u001b[0mhasconst\u001b[0m\u001b[0;34m,\u001b[0m \u001b[0;34m**\u001b[0m\u001b[0mkwargs\u001b[0m\u001b[0;34m)\u001b[0m\u001b[0;34m:\u001b[0m\u001b[0;34m\u001b[0m\u001b[0;34m\u001b[0m\u001b[0m\n\u001b[0;32m---> 91\u001b[0;31m         \u001b[0mdata\u001b[0m \u001b[0;34m=\u001b[0m \u001b[0mhandle_data\u001b[0m\u001b[0;34m(\u001b[0m\u001b[0mendog\u001b[0m\u001b[0;34m,\u001b[0m \u001b[0mexog\u001b[0m\u001b[0;34m,\u001b[0m \u001b[0mmissing\u001b[0m\u001b[0;34m,\u001b[0m \u001b[0mhasconst\u001b[0m\u001b[0;34m,\u001b[0m \u001b[0;34m**\u001b[0m\u001b[0mkwargs\u001b[0m\u001b[0;34m)\u001b[0m\u001b[0;34m\u001b[0m\u001b[0;34m\u001b[0m\u001b[0m\n\u001b[0m\u001b[1;32m     92\u001b[0m         \u001b[0;31m# kwargs arrays could have changed, easier to just attach here\u001b[0m\u001b[0;34m\u001b[0m\u001b[0;34m\u001b[0m\u001b[0;34m\u001b[0m\u001b[0m\n\u001b[1;32m     93\u001b[0m         \u001b[0;32mfor\u001b[0m \u001b[0mkey\u001b[0m \u001b[0;32min\u001b[0m \u001b[0mkwargs\u001b[0m\u001b[0;34m:\u001b[0m\u001b[0;34m\u001b[0m\u001b[0;34m\u001b[0m\u001b[0m\n",
      "\u001b[0;32m~/opt/anaconda3/lib/python3.7/site-packages/statsmodels/base/data.py\u001b[0m in \u001b[0;36mhandle_data\u001b[0;34m(endog, exog, missing, hasconst, **kwargs)\u001b[0m\n\u001b[1;32m    633\u001b[0m     \u001b[0mklass\u001b[0m \u001b[0;34m=\u001b[0m \u001b[0mhandle_data_class_factory\u001b[0m\u001b[0;34m(\u001b[0m\u001b[0mendog\u001b[0m\u001b[0;34m,\u001b[0m \u001b[0mexog\u001b[0m\u001b[0;34m)\u001b[0m\u001b[0;34m\u001b[0m\u001b[0;34m\u001b[0m\u001b[0m\n\u001b[1;32m    634\u001b[0m     return klass(endog, exog=exog, missing=missing, hasconst=hasconst,\n\u001b[0;32m--> 635\u001b[0;31m                  **kwargs)\n\u001b[0m",
      "\u001b[0;32m~/opt/anaconda3/lib/python3.7/site-packages/statsmodels/base/data.py\u001b[0m in \u001b[0;36m__init__\u001b[0;34m(self, endog, exog, missing, hasconst, **kwargs)\u001b[0m\n\u001b[1;32m     74\u001b[0m             \u001b[0mself\u001b[0m\u001b[0;34m.\u001b[0m\u001b[0morig_endog\u001b[0m \u001b[0;34m=\u001b[0m \u001b[0mendog\u001b[0m\u001b[0;34m\u001b[0m\u001b[0;34m\u001b[0m\u001b[0m\n\u001b[1;32m     75\u001b[0m             \u001b[0mself\u001b[0m\u001b[0;34m.\u001b[0m\u001b[0morig_exog\u001b[0m \u001b[0;34m=\u001b[0m \u001b[0mexog\u001b[0m\u001b[0;34m\u001b[0m\u001b[0;34m\u001b[0m\u001b[0m\n\u001b[0;32m---> 76\u001b[0;31m             \u001b[0mself\u001b[0m\u001b[0;34m.\u001b[0m\u001b[0mendog\u001b[0m\u001b[0;34m,\u001b[0m \u001b[0mself\u001b[0m\u001b[0;34m.\u001b[0m\u001b[0mexog\u001b[0m \u001b[0;34m=\u001b[0m \u001b[0mself\u001b[0m\u001b[0;34m.\u001b[0m\u001b[0m_convert_endog_exog\u001b[0m\u001b[0;34m(\u001b[0m\u001b[0mendog\u001b[0m\u001b[0;34m,\u001b[0m \u001b[0mexog\u001b[0m\u001b[0;34m)\u001b[0m\u001b[0;34m\u001b[0m\u001b[0;34m\u001b[0m\u001b[0m\n\u001b[0m\u001b[1;32m     77\u001b[0m \u001b[0;34m\u001b[0m\u001b[0m\n\u001b[1;32m     78\u001b[0m         \u001b[0mself\u001b[0m\u001b[0;34m.\u001b[0m\u001b[0mconst_idx\u001b[0m \u001b[0;34m=\u001b[0m \u001b[0;32mNone\u001b[0m\u001b[0;34m\u001b[0m\u001b[0;34m\u001b[0m\u001b[0m\n",
      "\u001b[0;32m~/opt/anaconda3/lib/python3.7/site-packages/statsmodels/base/data.py\u001b[0m in \u001b[0;36m_convert_endog_exog\u001b[0;34m(self, endog, exog)\u001b[0m\n\u001b[1;32m    473\u001b[0m         \u001b[0mexog\u001b[0m \u001b[0;34m=\u001b[0m \u001b[0mexog\u001b[0m \u001b[0;32mif\u001b[0m \u001b[0mexog\u001b[0m \u001b[0;32mis\u001b[0m \u001b[0;32mNone\u001b[0m \u001b[0;32melse\u001b[0m \u001b[0mnp\u001b[0m\u001b[0;34m.\u001b[0m\u001b[0masarray\u001b[0m\u001b[0;34m(\u001b[0m\u001b[0mexog\u001b[0m\u001b[0;34m)\u001b[0m\u001b[0;34m\u001b[0m\u001b[0;34m\u001b[0m\u001b[0m\n\u001b[1;32m    474\u001b[0m         \u001b[0;32mif\u001b[0m \u001b[0mendog\u001b[0m\u001b[0;34m.\u001b[0m\u001b[0mdtype\u001b[0m \u001b[0;34m==\u001b[0m \u001b[0mobject\u001b[0m \u001b[0;32mor\u001b[0m \u001b[0mexog\u001b[0m \u001b[0;32mis\u001b[0m \u001b[0;32mnot\u001b[0m \u001b[0;32mNone\u001b[0m \u001b[0;32mand\u001b[0m \u001b[0mexog\u001b[0m\u001b[0;34m.\u001b[0m\u001b[0mdtype\u001b[0m \u001b[0;34m==\u001b[0m \u001b[0mobject\u001b[0m\u001b[0;34m:\u001b[0m\u001b[0;34m\u001b[0m\u001b[0;34m\u001b[0m\u001b[0m\n\u001b[0;32m--> 475\u001b[0;31m             raise ValueError(\"Pandas data cast to numpy dtype of object. \"\n\u001b[0m\u001b[1;32m    476\u001b[0m                              \"Check input data with np.asarray(data).\")\n\u001b[1;32m    477\u001b[0m         \u001b[0;32mreturn\u001b[0m \u001b[0msuper\u001b[0m\u001b[0;34m(\u001b[0m\u001b[0mPandasData\u001b[0m\u001b[0;34m,\u001b[0m \u001b[0mself\u001b[0m\u001b[0;34m)\u001b[0m\u001b[0;34m.\u001b[0m\u001b[0m_convert_endog_exog\u001b[0m\u001b[0;34m(\u001b[0m\u001b[0mendog\u001b[0m\u001b[0;34m,\u001b[0m \u001b[0mexog\u001b[0m\u001b[0;34m)\u001b[0m\u001b[0;34m\u001b[0m\u001b[0;34m\u001b[0m\u001b[0m\n",
      "\u001b[0;31mValueError\u001b[0m: Pandas data cast to numpy dtype of object. Check input data with np.asarray(data)."
     ]
    }
   ],
   "source": [
    "f = ['push_notification', 'intercept', 'prev_day_with_app', 'prev_day_any_mindfulness']\n",
    "o = 'next_day_time_seconds'\n",
    "\n",
    "hypothesis_4_summ = run_model(regression_data, f, o, model_type='linear')\n",
    "\n",
    "hypothesis_4_summ"
   ]
  },
  {
   "cell_type": "markdown",
   "metadata": {},
   "source": [
    "## Hypothesis 5\n",
    "\n",
    "Does receiving a push notification to perform a mindfulness activity affect mood on the same day?\n",
    "\n",
    "* Dependent var: That day’s mood\n",
    "* Independent var: Push notification to complete a mindfulness activity that occurred prior to the self-reported survey value\n",
    "* Controlled covariate: Previous day’s mood"
   ]
  },
  {
   "cell_type": "code",
   "execution_count": null,
   "metadata": {},
   "outputs": [],
   "source": [
    "f = ['push_notification', 'intercept']\n",
    "o = 'negative_affect'\n",
    "\n",
    "hypothesis_4_summ = run_model(regression_data, f, o, model_type='linear')\n",
    "\n",
    "hypothesis_4_summ"
   ]
  },
  {
   "cell_type": "code",
   "execution_count": null,
   "metadata": {},
   "outputs": [],
   "source": [
    "pd.isnull(regression_data).sum()"
   ]
  },
  {
   "cell_type": "code",
   "execution_count": null,
   "metadata": {},
   "outputs": [],
   "source": [
    "data_for_model"
   ]
  },
  {
   "cell_type": "code",
   "execution_count": null,
   "metadata": {},
   "outputs": [],
   "source": []
  }
 ],
 "metadata": {
  "kernelspec": {
   "display_name": "Python 3",
   "language": "python",
   "name": "python3"
  },
  "language_info": {
   "codemirror_mode": {
    "name": "ipython",
    "version": 3
   },
   "file_extension": ".py",
   "mimetype": "text/x-python",
   "name": "python",
   "nbconvert_exporter": "python",
   "pygments_lexer": "ipython3",
   "version": "3.7.6"
  }
 },
 "nbformat": 4,
 "nbformat_minor": 2
}
